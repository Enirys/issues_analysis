{
  "cells": [
    {
      "cell_type": "markdown",
      "source": [
        "### Credits: https://github.com/laxmimerit/NLP-Tutorials-with-HuggingFace"
      ],
      "metadata": {
        "id": "tM2Dw4lp2iKZ"
      }
    },
    {
      "cell_type": "code",
      "execution_count": 1,
      "metadata": {
        "id": "qZR93i79-_sp",
        "colab": {
          "base_uri": "https://localhost:8080/"
        },
        "outputId": "72f87b48-c4d8-423d-e555-a42077101e8a"
      },
      "outputs": [
        {
          "output_type": "stream",
          "name": "stdout",
          "text": [
            "Collecting accelerate\n",
            "  Downloading accelerate-0.25.0-py3-none-any.whl (265 kB)\n",
            "\u001b[2K     \u001b[90m━━━━━━━━━━━━━━━━━━━━━━━━━━━━━━━━━━━━━━━━\u001b[0m \u001b[32m265.7/265.7 kB\u001b[0m \u001b[31m2.7 MB/s\u001b[0m eta \u001b[36m0:00:00\u001b[0m\n",
            "\u001b[?25hRequirement already satisfied: numpy>=1.17 in /usr/local/lib/python3.10/dist-packages (from accelerate) (1.23.5)\n",
            "Requirement already satisfied: packaging>=20.0 in /usr/local/lib/python3.10/dist-packages (from accelerate) (23.2)\n",
            "Requirement already satisfied: psutil in /usr/local/lib/python3.10/dist-packages (from accelerate) (5.9.5)\n",
            "Requirement already satisfied: pyyaml in /usr/local/lib/python3.10/dist-packages (from accelerate) (6.0.1)\n",
            "Requirement already satisfied: torch>=1.10.0 in /usr/local/lib/python3.10/dist-packages (from accelerate) (2.1.0+cu121)\n",
            "Requirement already satisfied: huggingface-hub in /usr/local/lib/python3.10/dist-packages (from accelerate) (0.19.4)\n",
            "Requirement already satisfied: safetensors>=0.3.1 in /usr/local/lib/python3.10/dist-packages (from accelerate) (0.4.1)\n",
            "Requirement already satisfied: filelock in /usr/local/lib/python3.10/dist-packages (from torch>=1.10.0->accelerate) (3.13.1)\n",
            "Requirement already satisfied: typing-extensions in /usr/local/lib/python3.10/dist-packages (from torch>=1.10.0->accelerate) (4.5.0)\n",
            "Requirement already satisfied: sympy in /usr/local/lib/python3.10/dist-packages (from torch>=1.10.0->accelerate) (1.12)\n",
            "Requirement already satisfied: networkx in /usr/local/lib/python3.10/dist-packages (from torch>=1.10.0->accelerate) (3.2.1)\n",
            "Requirement already satisfied: jinja2 in /usr/local/lib/python3.10/dist-packages (from torch>=1.10.0->accelerate) (3.1.2)\n",
            "Requirement already satisfied: fsspec in /usr/local/lib/python3.10/dist-packages (from torch>=1.10.0->accelerate) (2023.6.0)\n",
            "Requirement already satisfied: triton==2.1.0 in /usr/local/lib/python3.10/dist-packages (from torch>=1.10.0->accelerate) (2.1.0)\n",
            "Requirement already satisfied: requests in /usr/local/lib/python3.10/dist-packages (from huggingface-hub->accelerate) (2.31.0)\n",
            "Requirement already satisfied: tqdm>=4.42.1 in /usr/local/lib/python3.10/dist-packages (from huggingface-hub->accelerate) (4.66.1)\n",
            "Requirement already satisfied: MarkupSafe>=2.0 in /usr/local/lib/python3.10/dist-packages (from jinja2->torch>=1.10.0->accelerate) (2.1.3)\n",
            "Requirement already satisfied: charset-normalizer<4,>=2 in /usr/local/lib/python3.10/dist-packages (from requests->huggingface-hub->accelerate) (3.3.2)\n",
            "Requirement already satisfied: idna<4,>=2.5 in /usr/local/lib/python3.10/dist-packages (from requests->huggingface-hub->accelerate) (3.6)\n",
            "Requirement already satisfied: urllib3<3,>=1.21.1 in /usr/local/lib/python3.10/dist-packages (from requests->huggingface-hub->accelerate) (2.0.7)\n",
            "Requirement already satisfied: certifi>=2017.4.17 in /usr/local/lib/python3.10/dist-packages (from requests->huggingface-hub->accelerate) (2023.11.17)\n",
            "Requirement already satisfied: mpmath>=0.19 in /usr/local/lib/python3.10/dist-packages (from sympy->torch>=1.10.0->accelerate) (1.3.0)\n",
            "Installing collected packages: accelerate\n",
            "Successfully installed accelerate-0.25.0\n",
            "Requirement already satisfied: transformers in /usr/local/lib/python3.10/dist-packages (4.35.2)\n",
            "Collecting transformers\n",
            "  Downloading transformers-4.36.2-py3-none-any.whl (8.2 MB)\n",
            "\u001b[2K     \u001b[90m━━━━━━━━━━━━━━━━━━━━━━━━━━━━━━━━━━━━━━━━\u001b[0m \u001b[32m8.2/8.2 MB\u001b[0m \u001b[31m17.2 MB/s\u001b[0m eta \u001b[36m0:00:00\u001b[0m\n",
            "\u001b[?25hRequirement already satisfied: filelock in /usr/local/lib/python3.10/dist-packages (from transformers) (3.13.1)\n",
            "Requirement already satisfied: huggingface-hub<1.0,>=0.19.3 in /usr/local/lib/python3.10/dist-packages (from transformers) (0.19.4)\n",
            "Requirement already satisfied: numpy>=1.17 in /usr/local/lib/python3.10/dist-packages (from transformers) (1.23.5)\n",
            "Requirement already satisfied: packaging>=20.0 in /usr/local/lib/python3.10/dist-packages (from transformers) (23.2)\n",
            "Requirement already satisfied: pyyaml>=5.1 in /usr/local/lib/python3.10/dist-packages (from transformers) (6.0.1)\n",
            "Requirement already satisfied: regex!=2019.12.17 in /usr/local/lib/python3.10/dist-packages (from transformers) (2023.6.3)\n",
            "Requirement already satisfied: requests in /usr/local/lib/python3.10/dist-packages (from transformers) (2.31.0)\n",
            "Requirement already satisfied: tokenizers<0.19,>=0.14 in /usr/local/lib/python3.10/dist-packages (from transformers) (0.15.0)\n",
            "Requirement already satisfied: safetensors>=0.3.1 in /usr/local/lib/python3.10/dist-packages (from transformers) (0.4.1)\n",
            "Requirement already satisfied: tqdm>=4.27 in /usr/local/lib/python3.10/dist-packages (from transformers) (4.66.1)\n",
            "Requirement already satisfied: fsspec>=2023.5.0 in /usr/local/lib/python3.10/dist-packages (from huggingface-hub<1.0,>=0.19.3->transformers) (2023.6.0)\n",
            "Requirement already satisfied: typing-extensions>=3.7.4.3 in /usr/local/lib/python3.10/dist-packages (from huggingface-hub<1.0,>=0.19.3->transformers) (4.5.0)\n",
            "Requirement already satisfied: charset-normalizer<4,>=2 in /usr/local/lib/python3.10/dist-packages (from requests->transformers) (3.3.2)\n",
            "Requirement already satisfied: idna<4,>=2.5 in /usr/local/lib/python3.10/dist-packages (from requests->transformers) (3.6)\n",
            "Requirement already satisfied: urllib3<3,>=1.21.1 in /usr/local/lib/python3.10/dist-packages (from requests->transformers) (2.0.7)\n",
            "Requirement already satisfied: certifi>=2017.4.17 in /usr/local/lib/python3.10/dist-packages (from requests->transformers) (2023.11.17)\n",
            "Installing collected packages: transformers\n",
            "  Attempting uninstall: transformers\n",
            "    Found existing installation: transformers 4.35.2\n",
            "    Uninstalling transformers-4.35.2:\n",
            "      Successfully uninstalled transformers-4.35.2\n",
            "Successfully installed transformers-4.36.2\n",
            "Collecting neattext\n",
            "  Downloading neattext-0.1.3-py3-none-any.whl (114 kB)\n",
            "\u001b[2K     \u001b[90m━━━━━━━━━━━━━━━━━━━━━━━━━━━━━━━━━━━━━━━━\u001b[0m \u001b[32m114.7/114.7 kB\u001b[0m \u001b[31m3.5 MB/s\u001b[0m eta \u001b[36m0:00:00\u001b[0m\n",
            "\u001b[?25hInstalling collected packages: neattext\n",
            "Successfully installed neattext-0.1.3\n"
          ]
        }
      ],
      "source": [
        "!pip install -U accelerate\n",
        "!pip install -U transformers\n",
        "!pip install neattext"
      ]
    },
    {
      "cell_type": "code",
      "execution_count": 2,
      "metadata": {
        "id": "GxTHGeuDARPH",
        "colab": {
          "base_uri": "https://localhost:8080/",
          "height": 206
        },
        "outputId": "a7c8e416-94ba-48ba-c6e9-e580481c2ac1"
      },
      "outputs": [
        {
          "output_type": "execute_result",
          "data": {
            "text/plain": [
              "                                               title  \\\n",
              "0  `find_by` is broken when passing an instance t...   \n",
              "1  async_count returns a Integer instead of a Pro...   \n",
              "2  API only, multi DB. Undefined method `id' for ...   \n",
              "3  active_record_migrations.rb raises `Unknown mi...   \n",
              "4  ActiveRecord 7.1 regression in model scoping i...   \n",
              "\n",
              "                                              labels  \\\n",
              "0  activerecord, attached PR, With reproduction s...   \n",
              "1                          activerecord, attached PR   \n",
              "2                            more-information-needed   \n",
              "3                                          ci issues   \n",
              "4              activerecord, With reproduction steps   \n",
              "\n",
              "                                                body  \n",
              "0  Big thanks for adding support for composite pr...  \n",
              "1  ### Steps to reproduce\\r\\n\\r\\nWhen being cache...  \n",
              "2  I am upgrading to 7.1.2 from 7.0.7.\\r\\nIt is a...  \n",
              "3  There is a CI failure at https://buildkite.com...  \n",
              "4  ### Steps to reproduce\\r\\n<!-- (Guidelines for...  "
            ],
            "text/html": [
              "\n",
              "  <div id=\"df-462672e4-7751-4420-955b-3accb908881c\" class=\"colab-df-container\">\n",
              "    <div>\n",
              "<style scoped>\n",
              "    .dataframe tbody tr th:only-of-type {\n",
              "        vertical-align: middle;\n",
              "    }\n",
              "\n",
              "    .dataframe tbody tr th {\n",
              "        vertical-align: top;\n",
              "    }\n",
              "\n",
              "    .dataframe thead th {\n",
              "        text-align: right;\n",
              "    }\n",
              "</style>\n",
              "<table border=\"1\" class=\"dataframe\">\n",
              "  <thead>\n",
              "    <tr style=\"text-align: right;\">\n",
              "      <th></th>\n",
              "      <th>title</th>\n",
              "      <th>labels</th>\n",
              "      <th>body</th>\n",
              "    </tr>\n",
              "  </thead>\n",
              "  <tbody>\n",
              "    <tr>\n",
              "      <th>0</th>\n",
              "      <td>`find_by` is broken when passing an instance t...</td>\n",
              "      <td>activerecord, attached PR, With reproduction s...</td>\n",
              "      <td>Big thanks for adding support for composite pr...</td>\n",
              "    </tr>\n",
              "    <tr>\n",
              "      <th>1</th>\n",
              "      <td>async_count returns a Integer instead of a Pro...</td>\n",
              "      <td>activerecord, attached PR</td>\n",
              "      <td>### Steps to reproduce\\r\\n\\r\\nWhen being cache...</td>\n",
              "    </tr>\n",
              "    <tr>\n",
              "      <th>2</th>\n",
              "      <td>API only, multi DB. Undefined method `id' for ...</td>\n",
              "      <td>more-information-needed</td>\n",
              "      <td>I am upgrading to 7.1.2 from 7.0.7.\\r\\nIt is a...</td>\n",
              "    </tr>\n",
              "    <tr>\n",
              "      <th>3</th>\n",
              "      <td>active_record_migrations.rb raises `Unknown mi...</td>\n",
              "      <td>ci issues</td>\n",
              "      <td>There is a CI failure at https://buildkite.com...</td>\n",
              "    </tr>\n",
              "    <tr>\n",
              "      <th>4</th>\n",
              "      <td>ActiveRecord 7.1 regression in model scoping i...</td>\n",
              "      <td>activerecord, With reproduction steps</td>\n",
              "      <td>### Steps to reproduce\\r\\n&lt;!-- (Guidelines for...</td>\n",
              "    </tr>\n",
              "  </tbody>\n",
              "</table>\n",
              "</div>\n",
              "    <div class=\"colab-df-buttons\">\n",
              "\n",
              "  <div class=\"colab-df-container\">\n",
              "    <button class=\"colab-df-convert\" onclick=\"convertToInteractive('df-462672e4-7751-4420-955b-3accb908881c')\"\n",
              "            title=\"Convert this dataframe to an interactive table.\"\n",
              "            style=\"display:none;\">\n",
              "\n",
              "  <svg xmlns=\"http://www.w3.org/2000/svg\" height=\"24px\" viewBox=\"0 -960 960 960\">\n",
              "    <path d=\"M120-120v-720h720v720H120Zm60-500h600v-160H180v160Zm220 220h160v-160H400v160Zm0 220h160v-160H400v160ZM180-400h160v-160H180v160Zm440 0h160v-160H620v160ZM180-180h160v-160H180v160Zm440 0h160v-160H620v160Z\"/>\n",
              "  </svg>\n",
              "    </button>\n",
              "\n",
              "  <style>\n",
              "    .colab-df-container {\n",
              "      display:flex;\n",
              "      gap: 12px;\n",
              "    }\n",
              "\n",
              "    .colab-df-convert {\n",
              "      background-color: #E8F0FE;\n",
              "      border: none;\n",
              "      border-radius: 50%;\n",
              "      cursor: pointer;\n",
              "      display: none;\n",
              "      fill: #1967D2;\n",
              "      height: 32px;\n",
              "      padding: 0 0 0 0;\n",
              "      width: 32px;\n",
              "    }\n",
              "\n",
              "    .colab-df-convert:hover {\n",
              "      background-color: #E2EBFA;\n",
              "      box-shadow: 0px 1px 2px rgba(60, 64, 67, 0.3), 0px 1px 3px 1px rgba(60, 64, 67, 0.15);\n",
              "      fill: #174EA6;\n",
              "    }\n",
              "\n",
              "    .colab-df-buttons div {\n",
              "      margin-bottom: 4px;\n",
              "    }\n",
              "\n",
              "    [theme=dark] .colab-df-convert {\n",
              "      background-color: #3B4455;\n",
              "      fill: #D2E3FC;\n",
              "    }\n",
              "\n",
              "    [theme=dark] .colab-df-convert:hover {\n",
              "      background-color: #434B5C;\n",
              "      box-shadow: 0px 1px 3px 1px rgba(0, 0, 0, 0.15);\n",
              "      filter: drop-shadow(0px 1px 2px rgba(0, 0, 0, 0.3));\n",
              "      fill: #FFFFFF;\n",
              "    }\n",
              "  </style>\n",
              "\n",
              "    <script>\n",
              "      const buttonEl =\n",
              "        document.querySelector('#df-462672e4-7751-4420-955b-3accb908881c button.colab-df-convert');\n",
              "      buttonEl.style.display =\n",
              "        google.colab.kernel.accessAllowed ? 'block' : 'none';\n",
              "\n",
              "      async function convertToInteractive(key) {\n",
              "        const element = document.querySelector('#df-462672e4-7751-4420-955b-3accb908881c');\n",
              "        const dataTable =\n",
              "          await google.colab.kernel.invokeFunction('convertToInteractive',\n",
              "                                                    [key], {});\n",
              "        if (!dataTable) return;\n",
              "\n",
              "        const docLinkHtml = 'Like what you see? Visit the ' +\n",
              "          '<a target=\"_blank\" href=https://colab.research.google.com/notebooks/data_table.ipynb>data table notebook</a>'\n",
              "          + ' to learn more about interactive tables.';\n",
              "        element.innerHTML = '';\n",
              "        dataTable['output_type'] = 'display_data';\n",
              "        await google.colab.output.renderOutput(dataTable, element);\n",
              "        const docLink = document.createElement('div');\n",
              "        docLink.innerHTML = docLinkHtml;\n",
              "        element.appendChild(docLink);\n",
              "      }\n",
              "    </script>\n",
              "  </div>\n",
              "\n",
              "\n",
              "<div id=\"df-3e2d65b2-ca0b-45f9-8a91-f802fb3e5fd1\">\n",
              "  <button class=\"colab-df-quickchart\" onclick=\"quickchart('df-3e2d65b2-ca0b-45f9-8a91-f802fb3e5fd1')\"\n",
              "            title=\"Suggest charts\"\n",
              "            style=\"display:none;\">\n",
              "\n",
              "<svg xmlns=\"http://www.w3.org/2000/svg\" height=\"24px\"viewBox=\"0 0 24 24\"\n",
              "     width=\"24px\">\n",
              "    <g>\n",
              "        <path d=\"M19 3H5c-1.1 0-2 .9-2 2v14c0 1.1.9 2 2 2h14c1.1 0 2-.9 2-2V5c0-1.1-.9-2-2-2zM9 17H7v-7h2v7zm4 0h-2V7h2v10zm4 0h-2v-4h2v4z\"/>\n",
              "    </g>\n",
              "</svg>\n",
              "  </button>\n",
              "\n",
              "<style>\n",
              "  .colab-df-quickchart {\n",
              "      --bg-color: #E8F0FE;\n",
              "      --fill-color: #1967D2;\n",
              "      --hover-bg-color: #E2EBFA;\n",
              "      --hover-fill-color: #174EA6;\n",
              "      --disabled-fill-color: #AAA;\n",
              "      --disabled-bg-color: #DDD;\n",
              "  }\n",
              "\n",
              "  [theme=dark] .colab-df-quickchart {\n",
              "      --bg-color: #3B4455;\n",
              "      --fill-color: #D2E3FC;\n",
              "      --hover-bg-color: #434B5C;\n",
              "      --hover-fill-color: #FFFFFF;\n",
              "      --disabled-bg-color: #3B4455;\n",
              "      --disabled-fill-color: #666;\n",
              "  }\n",
              "\n",
              "  .colab-df-quickchart {\n",
              "    background-color: var(--bg-color);\n",
              "    border: none;\n",
              "    border-radius: 50%;\n",
              "    cursor: pointer;\n",
              "    display: none;\n",
              "    fill: var(--fill-color);\n",
              "    height: 32px;\n",
              "    padding: 0;\n",
              "    width: 32px;\n",
              "  }\n",
              "\n",
              "  .colab-df-quickchart:hover {\n",
              "    background-color: var(--hover-bg-color);\n",
              "    box-shadow: 0 1px 2px rgba(60, 64, 67, 0.3), 0 1px 3px 1px rgba(60, 64, 67, 0.15);\n",
              "    fill: var(--button-hover-fill-color);\n",
              "  }\n",
              "\n",
              "  .colab-df-quickchart-complete:disabled,\n",
              "  .colab-df-quickchart-complete:disabled:hover {\n",
              "    background-color: var(--disabled-bg-color);\n",
              "    fill: var(--disabled-fill-color);\n",
              "    box-shadow: none;\n",
              "  }\n",
              "\n",
              "  .colab-df-spinner {\n",
              "    border: 2px solid var(--fill-color);\n",
              "    border-color: transparent;\n",
              "    border-bottom-color: var(--fill-color);\n",
              "    animation:\n",
              "      spin 1s steps(1) infinite;\n",
              "  }\n",
              "\n",
              "  @keyframes spin {\n",
              "    0% {\n",
              "      border-color: transparent;\n",
              "      border-bottom-color: var(--fill-color);\n",
              "      border-left-color: var(--fill-color);\n",
              "    }\n",
              "    20% {\n",
              "      border-color: transparent;\n",
              "      border-left-color: var(--fill-color);\n",
              "      border-top-color: var(--fill-color);\n",
              "    }\n",
              "    30% {\n",
              "      border-color: transparent;\n",
              "      border-left-color: var(--fill-color);\n",
              "      border-top-color: var(--fill-color);\n",
              "      border-right-color: var(--fill-color);\n",
              "    }\n",
              "    40% {\n",
              "      border-color: transparent;\n",
              "      border-right-color: var(--fill-color);\n",
              "      border-top-color: var(--fill-color);\n",
              "    }\n",
              "    60% {\n",
              "      border-color: transparent;\n",
              "      border-right-color: var(--fill-color);\n",
              "    }\n",
              "    80% {\n",
              "      border-color: transparent;\n",
              "      border-right-color: var(--fill-color);\n",
              "      border-bottom-color: var(--fill-color);\n",
              "    }\n",
              "    90% {\n",
              "      border-color: transparent;\n",
              "      border-bottom-color: var(--fill-color);\n",
              "    }\n",
              "  }\n",
              "</style>\n",
              "\n",
              "  <script>\n",
              "    async function quickchart(key) {\n",
              "      const quickchartButtonEl =\n",
              "        document.querySelector('#' + key + ' button');\n",
              "      quickchartButtonEl.disabled = true;  // To prevent multiple clicks.\n",
              "      quickchartButtonEl.classList.add('colab-df-spinner');\n",
              "      try {\n",
              "        const charts = await google.colab.kernel.invokeFunction(\n",
              "            'suggestCharts', [key], {});\n",
              "      } catch (error) {\n",
              "        console.error('Error during call to suggestCharts:', error);\n",
              "      }\n",
              "      quickchartButtonEl.classList.remove('colab-df-spinner');\n",
              "      quickchartButtonEl.classList.add('colab-df-quickchart-complete');\n",
              "    }\n",
              "    (() => {\n",
              "      let quickchartButtonEl =\n",
              "        document.querySelector('#df-3e2d65b2-ca0b-45f9-8a91-f802fb3e5fd1 button');\n",
              "      quickchartButtonEl.style.display =\n",
              "        google.colab.kernel.accessAllowed ? 'block' : 'none';\n",
              "    })();\n",
              "  </script>\n",
              "</div>\n",
              "\n",
              "    </div>\n",
              "  </div>\n"
            ]
          },
          "metadata": {},
          "execution_count": 2
        }
      ],
      "source": [
        "import pandas as pd\n",
        "import neattext.functions as nfx\n",
        "df = pd.read_csv(\"https://raw.githubusercontent.com/Enirys/rails-issues-data/main/rails_github_issues_dataset_clean.csv\", usecols=[\"title\", \"body\", \"labels\"])\n",
        "df.head()"
      ]
    },
    {
      "cell_type": "code",
      "source": [
        "df['title_body'] = df['title'] + ' ' + df['body']\n",
        "df.head()"
      ],
      "metadata": {
        "id": "rhIw-I93egzu",
        "colab": {
          "base_uri": "https://localhost:8080/",
          "height": 206
        },
        "outputId": "8dc9f9d5-a8e8-4afa-da6d-14bb0a309439"
      },
      "execution_count": 3,
      "outputs": [
        {
          "output_type": "execute_result",
          "data": {
            "text/plain": [
              "                                               title  \\\n",
              "0  `find_by` is broken when passing an instance t...   \n",
              "1  async_count returns a Integer instead of a Pro...   \n",
              "2  API only, multi DB. Undefined method `id' for ...   \n",
              "3  active_record_migrations.rb raises `Unknown mi...   \n",
              "4  ActiveRecord 7.1 regression in model scoping i...   \n",
              "\n",
              "                                              labels  \\\n",
              "0  activerecord, attached PR, With reproduction s...   \n",
              "1                          activerecord, attached PR   \n",
              "2                            more-information-needed   \n",
              "3                                          ci issues   \n",
              "4              activerecord, With reproduction steps   \n",
              "\n",
              "                                                body  \\\n",
              "0  Big thanks for adding support for composite pr...   \n",
              "1  ### Steps to reproduce\\r\\n\\r\\nWhen being cache...   \n",
              "2  I am upgrading to 7.1.2 from 7.0.7.\\r\\nIt is a...   \n",
              "3  There is a CI failure at https://buildkite.com...   \n",
              "4  ### Steps to reproduce\\r\\n<!-- (Guidelines for...   \n",
              "\n",
              "                                          title_body  \n",
              "0  `find_by` is broken when passing an instance t...  \n",
              "1  async_count returns a Integer instead of a Pro...  \n",
              "2  API only, multi DB. Undefined method `id' for ...  \n",
              "3  active_record_migrations.rb raises `Unknown mi...  \n",
              "4  ActiveRecord 7.1 regression in model scoping i...  "
            ],
            "text/html": [
              "\n",
              "  <div id=\"df-7313becb-34ad-42ca-b3ce-2628034ae60b\" class=\"colab-df-container\">\n",
              "    <div>\n",
              "<style scoped>\n",
              "    .dataframe tbody tr th:only-of-type {\n",
              "        vertical-align: middle;\n",
              "    }\n",
              "\n",
              "    .dataframe tbody tr th {\n",
              "        vertical-align: top;\n",
              "    }\n",
              "\n",
              "    .dataframe thead th {\n",
              "        text-align: right;\n",
              "    }\n",
              "</style>\n",
              "<table border=\"1\" class=\"dataframe\">\n",
              "  <thead>\n",
              "    <tr style=\"text-align: right;\">\n",
              "      <th></th>\n",
              "      <th>title</th>\n",
              "      <th>labels</th>\n",
              "      <th>body</th>\n",
              "      <th>title_body</th>\n",
              "    </tr>\n",
              "  </thead>\n",
              "  <tbody>\n",
              "    <tr>\n",
              "      <th>0</th>\n",
              "      <td>`find_by` is broken when passing an instance t...</td>\n",
              "      <td>activerecord, attached PR, With reproduction s...</td>\n",
              "      <td>Big thanks for adding support for composite pr...</td>\n",
              "      <td>`find_by` is broken when passing an instance t...</td>\n",
              "    </tr>\n",
              "    <tr>\n",
              "      <th>1</th>\n",
              "      <td>async_count returns a Integer instead of a Pro...</td>\n",
              "      <td>activerecord, attached PR</td>\n",
              "      <td>### Steps to reproduce\\r\\n\\r\\nWhen being cache...</td>\n",
              "      <td>async_count returns a Integer instead of a Pro...</td>\n",
              "    </tr>\n",
              "    <tr>\n",
              "      <th>2</th>\n",
              "      <td>API only, multi DB. Undefined method `id' for ...</td>\n",
              "      <td>more-information-needed</td>\n",
              "      <td>I am upgrading to 7.1.2 from 7.0.7.\\r\\nIt is a...</td>\n",
              "      <td>API only, multi DB. Undefined method `id' for ...</td>\n",
              "    </tr>\n",
              "    <tr>\n",
              "      <th>3</th>\n",
              "      <td>active_record_migrations.rb raises `Unknown mi...</td>\n",
              "      <td>ci issues</td>\n",
              "      <td>There is a CI failure at https://buildkite.com...</td>\n",
              "      <td>active_record_migrations.rb raises `Unknown mi...</td>\n",
              "    </tr>\n",
              "    <tr>\n",
              "      <th>4</th>\n",
              "      <td>ActiveRecord 7.1 regression in model scoping i...</td>\n",
              "      <td>activerecord, With reproduction steps</td>\n",
              "      <td>### Steps to reproduce\\r\\n&lt;!-- (Guidelines for...</td>\n",
              "      <td>ActiveRecord 7.1 regression in model scoping i...</td>\n",
              "    </tr>\n",
              "  </tbody>\n",
              "</table>\n",
              "</div>\n",
              "    <div class=\"colab-df-buttons\">\n",
              "\n",
              "  <div class=\"colab-df-container\">\n",
              "    <button class=\"colab-df-convert\" onclick=\"convertToInteractive('df-7313becb-34ad-42ca-b3ce-2628034ae60b')\"\n",
              "            title=\"Convert this dataframe to an interactive table.\"\n",
              "            style=\"display:none;\">\n",
              "\n",
              "  <svg xmlns=\"http://www.w3.org/2000/svg\" height=\"24px\" viewBox=\"0 -960 960 960\">\n",
              "    <path d=\"M120-120v-720h720v720H120Zm60-500h600v-160H180v160Zm220 220h160v-160H400v160Zm0 220h160v-160H400v160ZM180-400h160v-160H180v160Zm440 0h160v-160H620v160ZM180-180h160v-160H180v160Zm440 0h160v-160H620v160Z\"/>\n",
              "  </svg>\n",
              "    </button>\n",
              "\n",
              "  <style>\n",
              "    .colab-df-container {\n",
              "      display:flex;\n",
              "      gap: 12px;\n",
              "    }\n",
              "\n",
              "    .colab-df-convert {\n",
              "      background-color: #E8F0FE;\n",
              "      border: none;\n",
              "      border-radius: 50%;\n",
              "      cursor: pointer;\n",
              "      display: none;\n",
              "      fill: #1967D2;\n",
              "      height: 32px;\n",
              "      padding: 0 0 0 0;\n",
              "      width: 32px;\n",
              "    }\n",
              "\n",
              "    .colab-df-convert:hover {\n",
              "      background-color: #E2EBFA;\n",
              "      box-shadow: 0px 1px 2px rgba(60, 64, 67, 0.3), 0px 1px 3px 1px rgba(60, 64, 67, 0.15);\n",
              "      fill: #174EA6;\n",
              "    }\n",
              "\n",
              "    .colab-df-buttons div {\n",
              "      margin-bottom: 4px;\n",
              "    }\n",
              "\n",
              "    [theme=dark] .colab-df-convert {\n",
              "      background-color: #3B4455;\n",
              "      fill: #D2E3FC;\n",
              "    }\n",
              "\n",
              "    [theme=dark] .colab-df-convert:hover {\n",
              "      background-color: #434B5C;\n",
              "      box-shadow: 0px 1px 3px 1px rgba(0, 0, 0, 0.15);\n",
              "      filter: drop-shadow(0px 1px 2px rgba(0, 0, 0, 0.3));\n",
              "      fill: #FFFFFF;\n",
              "    }\n",
              "  </style>\n",
              "\n",
              "    <script>\n",
              "      const buttonEl =\n",
              "        document.querySelector('#df-7313becb-34ad-42ca-b3ce-2628034ae60b button.colab-df-convert');\n",
              "      buttonEl.style.display =\n",
              "        google.colab.kernel.accessAllowed ? 'block' : 'none';\n",
              "\n",
              "      async function convertToInteractive(key) {\n",
              "        const element = document.querySelector('#df-7313becb-34ad-42ca-b3ce-2628034ae60b');\n",
              "        const dataTable =\n",
              "          await google.colab.kernel.invokeFunction('convertToInteractive',\n",
              "                                                    [key], {});\n",
              "        if (!dataTable) return;\n",
              "\n",
              "        const docLinkHtml = 'Like what you see? Visit the ' +\n",
              "          '<a target=\"_blank\" href=https://colab.research.google.com/notebooks/data_table.ipynb>data table notebook</a>'\n",
              "          + ' to learn more about interactive tables.';\n",
              "        element.innerHTML = '';\n",
              "        dataTable['output_type'] = 'display_data';\n",
              "        await google.colab.output.renderOutput(dataTable, element);\n",
              "        const docLink = document.createElement('div');\n",
              "        docLink.innerHTML = docLinkHtml;\n",
              "        element.appendChild(docLink);\n",
              "      }\n",
              "    </script>\n",
              "  </div>\n",
              "\n",
              "\n",
              "<div id=\"df-36d8b1a9-2f7c-4de3-97dd-eaa887650b6c\">\n",
              "  <button class=\"colab-df-quickchart\" onclick=\"quickchart('df-36d8b1a9-2f7c-4de3-97dd-eaa887650b6c')\"\n",
              "            title=\"Suggest charts\"\n",
              "            style=\"display:none;\">\n",
              "\n",
              "<svg xmlns=\"http://www.w3.org/2000/svg\" height=\"24px\"viewBox=\"0 0 24 24\"\n",
              "     width=\"24px\">\n",
              "    <g>\n",
              "        <path d=\"M19 3H5c-1.1 0-2 .9-2 2v14c0 1.1.9 2 2 2h14c1.1 0 2-.9 2-2V5c0-1.1-.9-2-2-2zM9 17H7v-7h2v7zm4 0h-2V7h2v10zm4 0h-2v-4h2v4z\"/>\n",
              "    </g>\n",
              "</svg>\n",
              "  </button>\n",
              "\n",
              "<style>\n",
              "  .colab-df-quickchart {\n",
              "      --bg-color: #E8F0FE;\n",
              "      --fill-color: #1967D2;\n",
              "      --hover-bg-color: #E2EBFA;\n",
              "      --hover-fill-color: #174EA6;\n",
              "      --disabled-fill-color: #AAA;\n",
              "      --disabled-bg-color: #DDD;\n",
              "  }\n",
              "\n",
              "  [theme=dark] .colab-df-quickchart {\n",
              "      --bg-color: #3B4455;\n",
              "      --fill-color: #D2E3FC;\n",
              "      --hover-bg-color: #434B5C;\n",
              "      --hover-fill-color: #FFFFFF;\n",
              "      --disabled-bg-color: #3B4455;\n",
              "      --disabled-fill-color: #666;\n",
              "  }\n",
              "\n",
              "  .colab-df-quickchart {\n",
              "    background-color: var(--bg-color);\n",
              "    border: none;\n",
              "    border-radius: 50%;\n",
              "    cursor: pointer;\n",
              "    display: none;\n",
              "    fill: var(--fill-color);\n",
              "    height: 32px;\n",
              "    padding: 0;\n",
              "    width: 32px;\n",
              "  }\n",
              "\n",
              "  .colab-df-quickchart:hover {\n",
              "    background-color: var(--hover-bg-color);\n",
              "    box-shadow: 0 1px 2px rgba(60, 64, 67, 0.3), 0 1px 3px 1px rgba(60, 64, 67, 0.15);\n",
              "    fill: var(--button-hover-fill-color);\n",
              "  }\n",
              "\n",
              "  .colab-df-quickchart-complete:disabled,\n",
              "  .colab-df-quickchart-complete:disabled:hover {\n",
              "    background-color: var(--disabled-bg-color);\n",
              "    fill: var(--disabled-fill-color);\n",
              "    box-shadow: none;\n",
              "  }\n",
              "\n",
              "  .colab-df-spinner {\n",
              "    border: 2px solid var(--fill-color);\n",
              "    border-color: transparent;\n",
              "    border-bottom-color: var(--fill-color);\n",
              "    animation:\n",
              "      spin 1s steps(1) infinite;\n",
              "  }\n",
              "\n",
              "  @keyframes spin {\n",
              "    0% {\n",
              "      border-color: transparent;\n",
              "      border-bottom-color: var(--fill-color);\n",
              "      border-left-color: var(--fill-color);\n",
              "    }\n",
              "    20% {\n",
              "      border-color: transparent;\n",
              "      border-left-color: var(--fill-color);\n",
              "      border-top-color: var(--fill-color);\n",
              "    }\n",
              "    30% {\n",
              "      border-color: transparent;\n",
              "      border-left-color: var(--fill-color);\n",
              "      border-top-color: var(--fill-color);\n",
              "      border-right-color: var(--fill-color);\n",
              "    }\n",
              "    40% {\n",
              "      border-color: transparent;\n",
              "      border-right-color: var(--fill-color);\n",
              "      border-top-color: var(--fill-color);\n",
              "    }\n",
              "    60% {\n",
              "      border-color: transparent;\n",
              "      border-right-color: var(--fill-color);\n",
              "    }\n",
              "    80% {\n",
              "      border-color: transparent;\n",
              "      border-right-color: var(--fill-color);\n",
              "      border-bottom-color: var(--fill-color);\n",
              "    }\n",
              "    90% {\n",
              "      border-color: transparent;\n",
              "      border-bottom-color: var(--fill-color);\n",
              "    }\n",
              "  }\n",
              "</style>\n",
              "\n",
              "  <script>\n",
              "    async function quickchart(key) {\n",
              "      const quickchartButtonEl =\n",
              "        document.querySelector('#' + key + ' button');\n",
              "      quickchartButtonEl.disabled = true;  // To prevent multiple clicks.\n",
              "      quickchartButtonEl.classList.add('colab-df-spinner');\n",
              "      try {\n",
              "        const charts = await google.colab.kernel.invokeFunction(\n",
              "            'suggestCharts', [key], {});\n",
              "      } catch (error) {\n",
              "        console.error('Error during call to suggestCharts:', error);\n",
              "      }\n",
              "      quickchartButtonEl.classList.remove('colab-df-spinner');\n",
              "      quickchartButtonEl.classList.add('colab-df-quickchart-complete');\n",
              "    }\n",
              "    (() => {\n",
              "      let quickchartButtonEl =\n",
              "        document.querySelector('#df-36d8b1a9-2f7c-4de3-97dd-eaa887650b6c button');\n",
              "      quickchartButtonEl.style.display =\n",
              "        google.colab.kernel.accessAllowed ? 'block' : 'none';\n",
              "    })();\n",
              "  </script>\n",
              "</div>\n",
              "\n",
              "    </div>\n",
              "  </div>\n"
            ]
          },
          "metadata": {},
          "execution_count": 3
        }
      ]
    },
    {
      "cell_type": "code",
      "source": [
        "df['title_body'] = df['title_body'].apply(lambda x: nfx.remove_stopwords(str(x).lower()))"
      ],
      "metadata": {
        "id": "RDZ1Pi26hv0H"
      },
      "execution_count": 4,
      "outputs": []
    },
    {
      "cell_type": "code",
      "source": [
        "df.head()"
      ],
      "metadata": {
        "id": "pGcCv7g0iRcI",
        "colab": {
          "base_uri": "https://localhost:8080/",
          "height": 206
        },
        "outputId": "56cecfaf-c708-48ec-8316-1cc6a6b9d18d"
      },
      "execution_count": 5,
      "outputs": [
        {
          "output_type": "execute_result",
          "data": {
            "text/plain": [
              "                                               title  \\\n",
              "0  `find_by` is broken when passing an instance t...   \n",
              "1  async_count returns a Integer instead of a Pro...   \n",
              "2  API only, multi DB. Undefined method `id' for ...   \n",
              "3  active_record_migrations.rb raises `Unknown mi...   \n",
              "4  ActiveRecord 7.1 regression in model scoping i...   \n",
              "\n",
              "                                              labels  \\\n",
              "0  activerecord, attached PR, With reproduction s...   \n",
              "1                          activerecord, attached PR   \n",
              "2                            more-information-needed   \n",
              "3                                          ci issues   \n",
              "4              activerecord, With reproduction steps   \n",
              "\n",
              "                                                body  \\\n",
              "0  Big thanks for adding support for composite pr...   \n",
              "1  ### Steps to reproduce\\r\\n\\r\\nWhen being cache...   \n",
              "2  I am upgrading to 7.1.2 from 7.0.7.\\r\\nIt is a...   \n",
              "3  There is a CI failure at https://buildkite.com...   \n",
              "4  ### Steps to reproduce\\r\\n<!-- (Guidelines for...   \n",
              "\n",
              "                                          title_body  \n",
              "0  `find_by` broken passing instance uses composi...  \n",
              "1  async_count returns integer instead promise ##...  \n",
              "2  api only, multi db. undefined method `id' {}:h...  \n",
              "3  active_record_migrations.rb raises `unknown mi...  \n",
              "4  activerecord 7.1 regression model scoping call...  "
            ],
            "text/html": [
              "\n",
              "  <div id=\"df-032e1372-d6e1-4d26-bfa5-7d3bf1cf1c98\" class=\"colab-df-container\">\n",
              "    <div>\n",
              "<style scoped>\n",
              "    .dataframe tbody tr th:only-of-type {\n",
              "        vertical-align: middle;\n",
              "    }\n",
              "\n",
              "    .dataframe tbody tr th {\n",
              "        vertical-align: top;\n",
              "    }\n",
              "\n",
              "    .dataframe thead th {\n",
              "        text-align: right;\n",
              "    }\n",
              "</style>\n",
              "<table border=\"1\" class=\"dataframe\">\n",
              "  <thead>\n",
              "    <tr style=\"text-align: right;\">\n",
              "      <th></th>\n",
              "      <th>title</th>\n",
              "      <th>labels</th>\n",
              "      <th>body</th>\n",
              "      <th>title_body</th>\n",
              "    </tr>\n",
              "  </thead>\n",
              "  <tbody>\n",
              "    <tr>\n",
              "      <th>0</th>\n",
              "      <td>`find_by` is broken when passing an instance t...</td>\n",
              "      <td>activerecord, attached PR, With reproduction s...</td>\n",
              "      <td>Big thanks for adding support for composite pr...</td>\n",
              "      <td>`find_by` broken passing instance uses composi...</td>\n",
              "    </tr>\n",
              "    <tr>\n",
              "      <th>1</th>\n",
              "      <td>async_count returns a Integer instead of a Pro...</td>\n",
              "      <td>activerecord, attached PR</td>\n",
              "      <td>### Steps to reproduce\\r\\n\\r\\nWhen being cache...</td>\n",
              "      <td>async_count returns integer instead promise ##...</td>\n",
              "    </tr>\n",
              "    <tr>\n",
              "      <th>2</th>\n",
              "      <td>API only, multi DB. Undefined method `id' for ...</td>\n",
              "      <td>more-information-needed</td>\n",
              "      <td>I am upgrading to 7.1.2 from 7.0.7.\\r\\nIt is a...</td>\n",
              "      <td>api only, multi db. undefined method `id' {}:h...</td>\n",
              "    </tr>\n",
              "    <tr>\n",
              "      <th>3</th>\n",
              "      <td>active_record_migrations.rb raises `Unknown mi...</td>\n",
              "      <td>ci issues</td>\n",
              "      <td>There is a CI failure at https://buildkite.com...</td>\n",
              "      <td>active_record_migrations.rb raises `unknown mi...</td>\n",
              "    </tr>\n",
              "    <tr>\n",
              "      <th>4</th>\n",
              "      <td>ActiveRecord 7.1 regression in model scoping i...</td>\n",
              "      <td>activerecord, With reproduction steps</td>\n",
              "      <td>### Steps to reproduce\\r\\n&lt;!-- (Guidelines for...</td>\n",
              "      <td>activerecord 7.1 regression model scoping call...</td>\n",
              "    </tr>\n",
              "  </tbody>\n",
              "</table>\n",
              "</div>\n",
              "    <div class=\"colab-df-buttons\">\n",
              "\n",
              "  <div class=\"colab-df-container\">\n",
              "    <button class=\"colab-df-convert\" onclick=\"convertToInteractive('df-032e1372-d6e1-4d26-bfa5-7d3bf1cf1c98')\"\n",
              "            title=\"Convert this dataframe to an interactive table.\"\n",
              "            style=\"display:none;\">\n",
              "\n",
              "  <svg xmlns=\"http://www.w3.org/2000/svg\" height=\"24px\" viewBox=\"0 -960 960 960\">\n",
              "    <path d=\"M120-120v-720h720v720H120Zm60-500h600v-160H180v160Zm220 220h160v-160H400v160Zm0 220h160v-160H400v160ZM180-400h160v-160H180v160Zm440 0h160v-160H620v160ZM180-180h160v-160H180v160Zm440 0h160v-160H620v160Z\"/>\n",
              "  </svg>\n",
              "    </button>\n",
              "\n",
              "  <style>\n",
              "    .colab-df-container {\n",
              "      display:flex;\n",
              "      gap: 12px;\n",
              "    }\n",
              "\n",
              "    .colab-df-convert {\n",
              "      background-color: #E8F0FE;\n",
              "      border: none;\n",
              "      border-radius: 50%;\n",
              "      cursor: pointer;\n",
              "      display: none;\n",
              "      fill: #1967D2;\n",
              "      height: 32px;\n",
              "      padding: 0 0 0 0;\n",
              "      width: 32px;\n",
              "    }\n",
              "\n",
              "    .colab-df-convert:hover {\n",
              "      background-color: #E2EBFA;\n",
              "      box-shadow: 0px 1px 2px rgba(60, 64, 67, 0.3), 0px 1px 3px 1px rgba(60, 64, 67, 0.15);\n",
              "      fill: #174EA6;\n",
              "    }\n",
              "\n",
              "    .colab-df-buttons div {\n",
              "      margin-bottom: 4px;\n",
              "    }\n",
              "\n",
              "    [theme=dark] .colab-df-convert {\n",
              "      background-color: #3B4455;\n",
              "      fill: #D2E3FC;\n",
              "    }\n",
              "\n",
              "    [theme=dark] .colab-df-convert:hover {\n",
              "      background-color: #434B5C;\n",
              "      box-shadow: 0px 1px 3px 1px rgba(0, 0, 0, 0.15);\n",
              "      filter: drop-shadow(0px 1px 2px rgba(0, 0, 0, 0.3));\n",
              "      fill: #FFFFFF;\n",
              "    }\n",
              "  </style>\n",
              "\n",
              "    <script>\n",
              "      const buttonEl =\n",
              "        document.querySelector('#df-032e1372-d6e1-4d26-bfa5-7d3bf1cf1c98 button.colab-df-convert');\n",
              "      buttonEl.style.display =\n",
              "        google.colab.kernel.accessAllowed ? 'block' : 'none';\n",
              "\n",
              "      async function convertToInteractive(key) {\n",
              "        const element = document.querySelector('#df-032e1372-d6e1-4d26-bfa5-7d3bf1cf1c98');\n",
              "        const dataTable =\n",
              "          await google.colab.kernel.invokeFunction('convertToInteractive',\n",
              "                                                    [key], {});\n",
              "        if (!dataTable) return;\n",
              "\n",
              "        const docLinkHtml = 'Like what you see? Visit the ' +\n",
              "          '<a target=\"_blank\" href=https://colab.research.google.com/notebooks/data_table.ipynb>data table notebook</a>'\n",
              "          + ' to learn more about interactive tables.';\n",
              "        element.innerHTML = '';\n",
              "        dataTable['output_type'] = 'display_data';\n",
              "        await google.colab.output.renderOutput(dataTable, element);\n",
              "        const docLink = document.createElement('div');\n",
              "        docLink.innerHTML = docLinkHtml;\n",
              "        element.appendChild(docLink);\n",
              "      }\n",
              "    </script>\n",
              "  </div>\n",
              "\n",
              "\n",
              "<div id=\"df-c77c0282-bf1e-477c-89b4-67bd57176398\">\n",
              "  <button class=\"colab-df-quickchart\" onclick=\"quickchart('df-c77c0282-bf1e-477c-89b4-67bd57176398')\"\n",
              "            title=\"Suggest charts\"\n",
              "            style=\"display:none;\">\n",
              "\n",
              "<svg xmlns=\"http://www.w3.org/2000/svg\" height=\"24px\"viewBox=\"0 0 24 24\"\n",
              "     width=\"24px\">\n",
              "    <g>\n",
              "        <path d=\"M19 3H5c-1.1 0-2 .9-2 2v14c0 1.1.9 2 2 2h14c1.1 0 2-.9 2-2V5c0-1.1-.9-2-2-2zM9 17H7v-7h2v7zm4 0h-2V7h2v10zm4 0h-2v-4h2v4z\"/>\n",
              "    </g>\n",
              "</svg>\n",
              "  </button>\n",
              "\n",
              "<style>\n",
              "  .colab-df-quickchart {\n",
              "      --bg-color: #E8F0FE;\n",
              "      --fill-color: #1967D2;\n",
              "      --hover-bg-color: #E2EBFA;\n",
              "      --hover-fill-color: #174EA6;\n",
              "      --disabled-fill-color: #AAA;\n",
              "      --disabled-bg-color: #DDD;\n",
              "  }\n",
              "\n",
              "  [theme=dark] .colab-df-quickchart {\n",
              "      --bg-color: #3B4455;\n",
              "      --fill-color: #D2E3FC;\n",
              "      --hover-bg-color: #434B5C;\n",
              "      --hover-fill-color: #FFFFFF;\n",
              "      --disabled-bg-color: #3B4455;\n",
              "      --disabled-fill-color: #666;\n",
              "  }\n",
              "\n",
              "  .colab-df-quickchart {\n",
              "    background-color: var(--bg-color);\n",
              "    border: none;\n",
              "    border-radius: 50%;\n",
              "    cursor: pointer;\n",
              "    display: none;\n",
              "    fill: var(--fill-color);\n",
              "    height: 32px;\n",
              "    padding: 0;\n",
              "    width: 32px;\n",
              "  }\n",
              "\n",
              "  .colab-df-quickchart:hover {\n",
              "    background-color: var(--hover-bg-color);\n",
              "    box-shadow: 0 1px 2px rgba(60, 64, 67, 0.3), 0 1px 3px 1px rgba(60, 64, 67, 0.15);\n",
              "    fill: var(--button-hover-fill-color);\n",
              "  }\n",
              "\n",
              "  .colab-df-quickchart-complete:disabled,\n",
              "  .colab-df-quickchart-complete:disabled:hover {\n",
              "    background-color: var(--disabled-bg-color);\n",
              "    fill: var(--disabled-fill-color);\n",
              "    box-shadow: none;\n",
              "  }\n",
              "\n",
              "  .colab-df-spinner {\n",
              "    border: 2px solid var(--fill-color);\n",
              "    border-color: transparent;\n",
              "    border-bottom-color: var(--fill-color);\n",
              "    animation:\n",
              "      spin 1s steps(1) infinite;\n",
              "  }\n",
              "\n",
              "  @keyframes spin {\n",
              "    0% {\n",
              "      border-color: transparent;\n",
              "      border-bottom-color: var(--fill-color);\n",
              "      border-left-color: var(--fill-color);\n",
              "    }\n",
              "    20% {\n",
              "      border-color: transparent;\n",
              "      border-left-color: var(--fill-color);\n",
              "      border-top-color: var(--fill-color);\n",
              "    }\n",
              "    30% {\n",
              "      border-color: transparent;\n",
              "      border-left-color: var(--fill-color);\n",
              "      border-top-color: var(--fill-color);\n",
              "      border-right-color: var(--fill-color);\n",
              "    }\n",
              "    40% {\n",
              "      border-color: transparent;\n",
              "      border-right-color: var(--fill-color);\n",
              "      border-top-color: var(--fill-color);\n",
              "    }\n",
              "    60% {\n",
              "      border-color: transparent;\n",
              "      border-right-color: var(--fill-color);\n",
              "    }\n",
              "    80% {\n",
              "      border-color: transparent;\n",
              "      border-right-color: var(--fill-color);\n",
              "      border-bottom-color: var(--fill-color);\n",
              "    }\n",
              "    90% {\n",
              "      border-color: transparent;\n",
              "      border-bottom-color: var(--fill-color);\n",
              "    }\n",
              "  }\n",
              "</style>\n",
              "\n",
              "  <script>\n",
              "    async function quickchart(key) {\n",
              "      const quickchartButtonEl =\n",
              "        document.querySelector('#' + key + ' button');\n",
              "      quickchartButtonEl.disabled = true;  // To prevent multiple clicks.\n",
              "      quickchartButtonEl.classList.add('colab-df-spinner');\n",
              "      try {\n",
              "        const charts = await google.colab.kernel.invokeFunction(\n",
              "            'suggestCharts', [key], {});\n",
              "      } catch (error) {\n",
              "        console.error('Error during call to suggestCharts:', error);\n",
              "      }\n",
              "      quickchartButtonEl.classList.remove('colab-df-spinner');\n",
              "      quickchartButtonEl.classList.add('colab-df-quickchart-complete');\n",
              "    }\n",
              "    (() => {\n",
              "      let quickchartButtonEl =\n",
              "        document.querySelector('#df-c77c0282-bf1e-477c-89b4-67bd57176398 button');\n",
              "      quickchartButtonEl.style.display =\n",
              "        google.colab.kernel.accessAllowed ? 'block' : 'none';\n",
              "    })();\n",
              "  </script>\n",
              "</div>\n",
              "\n",
              "    </div>\n",
              "  </div>\n"
            ]
          },
          "metadata": {},
          "execution_count": 5
        }
      ]
    },
    {
      "cell_type": "code",
      "source": [
        "df.iloc[0].labels"
      ],
      "metadata": {
        "id": "R6sXC-FUm9n0",
        "colab": {
          "base_uri": "https://localhost:8080/",
          "height": 36
        },
        "outputId": "138a78e4-7dae-425d-86d7-9e2f4936257a"
      },
      "execution_count": 6,
      "outputs": [
        {
          "output_type": "execute_result",
          "data": {
            "text/plain": [
              "'activerecord, attached PR, With reproduction steps'"
            ],
            "application/vnd.google.colaboratory.intrinsic+json": {
              "type": "string"
            }
          },
          "metadata": {},
          "execution_count": 6
        }
      ]
    },
    {
      "cell_type": "code",
      "execution_count": 7,
      "metadata": {
        "id": "YGH7yKl_ARMD",
        "colab": {
          "base_uri": "https://localhost:8080/"
        },
        "outputId": "c15b39de-bbea-4685-87c1-4b7845cdcf85"
      },
      "outputs": [
        {
          "output_type": "stream",
          "name": "stdout",
          "text": [
            "<class 'pandas.core.frame.DataFrame'>\n",
            "RangeIndex: 500 entries, 0 to 499\n",
            "Data columns (total 4 columns):\n",
            " #   Column      Non-Null Count  Dtype \n",
            "---  ------      --------------  ----- \n",
            " 0   title       500 non-null    object\n",
            " 1   labels      500 non-null    object\n",
            " 2   body        500 non-null    object\n",
            " 3   title_body  500 non-null    object\n",
            "dtypes: object(4)\n",
            "memory usage: 15.8+ KB\n"
          ]
        },
        {
          "output_type": "execute_result",
          "data": {
            "text/plain": [
              "0"
            ]
          },
          "metadata": {},
          "execution_count": 7
        }
      ],
      "source": [
        "df.shape\n",
        "df.info()\n",
        "\n",
        "df.duplicated().sum()"
      ]
    },
    {
      "cell_type": "code",
      "execution_count": 8,
      "metadata": {
        "id": "2rOnVI3SARD2",
        "colab": {
          "base_uri": "https://localhost:8080/",
          "height": 447
        },
        "outputId": "1d1d5093-53e6-4118-b9a8-ca66d2cb2091"
      },
      "outputs": [
        {
          "output_type": "execute_result",
          "data": {
            "text/plain": [
              "<Axes: ylabel='Frequency'>"
            ]
          },
          "metadata": {},
          "execution_count": 8
        },
        {
          "output_type": "display_data",
          "data": {
            "text/plain": [
              "<Figure size 640x480 with 1 Axes>"
            ],
            "image/png": "[encoded data removed]"
          },
          "metadata": {}
        }
      ],
      "source": [
        "df['title_body'].str.len().plot.hist(bins=50)"
      ]
    },
    {
      "cell_type": "code",
      "source": [
        "df['labels'] = df['labels'].apply(lambda x: [label.strip() for label in x.split(',')])"
      ],
      "metadata": {
        "id": "z_vwbOF6ktL4"
      },
      "execution_count": 9,
      "outputs": []
    },
    {
      "cell_type": "code",
      "source": [
        "#df['labels'] = df['labels'].apply(lambda labels: [label.replace(' ', '') for label in labels])"
      ],
      "metadata": {
        "id": "ILp5Yyo9hiRJ"
      },
      "execution_count": 10,
      "outputs": []
    },
    {
      "cell_type": "code",
      "source": [
        "df['labels']"
      ],
      "metadata": {
        "id": "gwIkMc5egdCG",
        "colab": {
          "base_uri": "https://localhost:8080/"
        },
        "outputId": "86d3837e-09f7-4cc1-f333-0b24ff2477e0"
      },
      "execution_count": 11,
      "outputs": [
        {
          "output_type": "execute_result",
          "data": {
            "text/plain": [
              "0      [activerecord, attached PR, With reproduction ...\n",
              "1                            [activerecord, attached PR]\n",
              "2                              [more-information-needed]\n",
              "3                                            [ci issues]\n",
              "4                [activerecord, With reproduction steps]\n",
              "                             ...                        \n",
              "495                            [more-information-needed]\n",
              "496                          [activerecord, attached PR]\n",
              "497                                      [activestorage]\n",
              "498                               [stale, activestorage]\n",
              "499                           [attached PR, actioncable]\n",
              "Name: labels, Length: 500, dtype: object"
            ]
          },
          "metadata": {},
          "execution_count": 11
        }
      ]
    },
    {
      "cell_type": "code",
      "execution_count": 12,
      "metadata": {
        "id": "2AABKhv1AQ8H",
        "colab": {
          "base_uri": "https://localhost:8080/"
        },
        "outputId": "e12650bb-6796-4762-fe95-646ef03b25a0"
      },
      "outputs": [
        {
          "output_type": "execute_result",
          "data": {
            "text/plain": [
              "activerecord               241\n",
              "attached PR                129\n",
              "With reproduction steps    104\n",
              "activesupport               46\n",
              "stale                       39\n",
              "actionpack                  33\n",
              "more-information-needed     32\n",
              "railties                    31\n",
              "actionview                  29\n",
              "docs                        24\n",
              "ci issues                   22\n",
              "activestorage               19\n",
              "third party issue           17\n",
              "good first issue            12\n",
              "encryption                  12\n",
              "regression                  10\n",
              "PostgreSQL                  10\n",
              "actioncable                  8\n",
              "activejob                    8\n",
              "activemodel                  6\n",
              "pinned                       4\n",
              "actionmailer                 3\n",
              "actiontext                   3\n",
              "engines                      3\n",
              "MySQL                        2\n",
              "i18n                         1\n",
              "routing                      1\n",
              "rails-ujs                    1\n",
              "asset pipeline               1\n",
              "duplicate                    1\n",
              "dtype: int64"
            ]
          },
          "metadata": {},
          "execution_count": 12
        }
      ],
      "source": [
        "label_counts = [l for lab in df['labels'] for l in lab]\n",
        "pd.Series(label_counts).value_counts()"
      ]
    },
    {
      "cell_type": "markdown",
      "metadata": {
        "id": "UMCDaPyGHJa3"
      },
      "source": [
        "## Label Encoder"
      ]
    },
    {
      "cell_type": "code",
      "execution_count": 13,
      "metadata": {
        "id": "c2XkxiwfAQzv"
      },
      "outputs": [],
      "source": [
        "from sklearn.preprocessing import MultiLabelBinarizer"
      ]
    },
    {
      "cell_type": "code",
      "source": [
        "multilabel = MultiLabelBinarizer()\n",
        "\n",
        "labels = multilabel.fit_transform(df['labels']).astype('float32')\n",
        "\n",
        "texts = df['title_body'].tolist()"
      ],
      "metadata": {
        "id": "j4S8RzKafnNv"
      },
      "execution_count": 14,
      "outputs": []
    },
    {
      "cell_type": "code",
      "execution_count": 15,
      "metadata": {
        "id": "wLmpBzPKAQtD",
        "colab": {
          "base_uri": "https://localhost:8080/"
        },
        "outputId": "fff4cec8-fb2e-46b3-c2d0-62292d7a7987"
      },
      "outputs": [
        {
          "output_type": "execute_result",
          "data": {
            "text/plain": [
              "['`find_by` broken passing instance uses composite primary keys big thanks adding support composite primary keys. we’ve implemented seen big performance gains - we’re partitioned tables! however, `find_by` broken trying pass instance uses composite primary keys. ```ruby # frozen_string_literal: true require \"bundler/inline\" gemfile(true) source \"https://rubygems.org\" gem \"activerecord\", \"7.1.2\" gem \"sqlite3\" end require \"active_record\" require \"minitest/autorun\" require \"logger\" # connection database-independent bug reports. activerecord::base.establish_connection(adapter: \"sqlite3\", database: \":memory:\") activerecord::base.logger = logger.new(stdout) activerecord::schema.define create_table :users, primary_key: [:id, :company_id], force: true |t| t.integer :id t.integer :company_id end create_table :profiles, primary_key: :id, force: true |t| t.integer :user_id t.integer :company_id end end class user < activerecord::base has_one :profile end class profile < activerecord::base belongs_to :user, query_constraints: [:user_id, :company_id] end class bugtest < minitest::test def test_find_by user = user.create!(id: [1, 1]) profile = profile.create(id: 1, user_id: 1, company_id: 1) assert_equal profile, profile.find_by(user: user) end end ```',\n",
              " 'async_count returns integer instead promise ### steps reproduce cached, `#async_count` method returns integer instead promise ```ruby projects = policy_scope(project) projects.async_count # cache project count (0.1ms) select count(*) \"projects\" \"projects\".\"team_id\" = $1 #=> 792 ``` found workaround adding useless `where` ```ruby projects = policy_scope(project.where(\\'1=1\\') projects.async_count #=> #<activerecord::promise status=pending> ``` ### expected behavior views, `.value` raises error integer `#<activerecord::promise status=pending>` ### system configuration **rails version**: latest **ruby version**: 3.2.2',\n",
              " 'api only, multi db. undefined method `id\\' {}:hash upgrading 7.1.2 7.0.7. api_only. multi db. pretty sure related adding session management api app multi db know root cause. upgrading, 7.1.2 errors request specs. ``` undefined method `id\\' {}:hash > access interactive console error, point browser to: /__better_errors spec/requests/domains_spec.rb, line 298 --------------------------------------- ruby 293 end 294 295 # test suite /v1/domains 296 describe \\'get /v1/domains\\' 297 > 298 \\'/v1/domains\\', 299 headers: {\\'accept\\' => \\'application/json\\', 300 \\'authorization\\' => \"bearer #{token}\"} 301 end 302 303 context \\'when domain exists\\' app backtrace ------------- - spec/requests/domains_spec.rb:298:in `block (3 levels) <top (required)>\\' - spec/rails_helper.rb:103:in `block (3 levels) <top (required)>\\' - spec/rails_helper.rb:102:in `block (2 levels) <top (required)>\\' backtrace -------------- - rack (2.2.8) lib/rack/session/abstract/id.rb:329:in `current_session_id\\' - rack (2.2.8) lib/rack/session/abstract/id.rb:335:in `session_exists?\\' - actionpack (7.1.2) lib/action_dispatch/request/session.rb:230:in `exists?\\' - actionpack (7.1.2) lib/action_dispatch/request/session.rb:270:in `load!\\' - actionpack (7.1.2) lib/action_dispatch/request/session.rb:258:in `load_for_write!\\' - actionpack (7.1.2) lib/action_dispatch/request/session.rb:185:in `update\\' - actionpack (7.1.2) lib/action_dispatch/request/session.rb:20:in `create\\' - actionpack (7.1.2) lib/action_dispatch/middleware/session/abstract_store.rb:76:in `prepare_session\\' - rack (2.2.8) lib/rack/session/abstract/id.rb:265:in `context\\' - rack (2.2.8) lib/rack/session/abstract/id.rb:260:in `call\\' - actionpack (7.1.2) lib/action_dispatch/middleware/cookies.rb:689:in `call\\' - rack-attack (6.7.0) lib/rack/attack.rb:127:in `call\\' - activerecord (7.1.2) lib/active_record/middleware/database_selector.rb:67:in `block call\\' - activesupport (7.1.2) lib/active_support/notifications/instrumenter.rb:58:in `instrument\\' - activerecord (7.1.2) lib/active_record/middleware/database_selector/resolver.rb:58:in `block read_from_primary\\' - activerecord (7.1.2) lib/active_record/connection_handling.rb:361:in `with_role_and_shard\\' - activerecord (7.1.2) lib/active_record/connection_handling.rb:147:in `connected_to\\' - activerecord (7.1.2) lib/active_record/middleware/database_selector/resolver.rb:57:in `read_from_primary\\' - activerecord (7.1.2) lib/active_record/middleware/database_selector/resolver.rb:37:in `read\\' - activerecord (7.1.2) lib/active_record/middleware/database_selector.rb:77:in `select_database\\' - activerecord (7.1.2) lib/active_record/middleware/database_selector.rb:66:in `call\\' - rack (2.2.8) lib/rack/etag.rb:27:in `call\\' - rack (2.2.8) lib/rack/conditional_get.rb:27:in `call\\' - rack (2.2.8) lib/rack/head.rb:12:in `call\\' - actionpack (7.1.2) lib/action_dispatch/middleware/callbacks.rb:29:in `block call\\' - activesupport (7.1.2) lib/active_support/callbacks.rb:101:in `run_callbacks\\' - actionpack (7.1.2) lib/action_dispatch/middleware/callbacks.rb:28:in `call\\' - actionpack (7.1.2) lib/action_dispatch/middleware/executor.rb:14:in `call\\' - actionpack (7.1.2) lib/action_dispatch/middleware/actionable_exceptions.rb:16:in `call\\' - appsignal (3.4.10) lib/appsignal/rack/rails_instrumentation.rb:32:in `call_with_appsignal_monitoring\\' - appsignal (3.4.10) lib/appsignal/rack/rails_instrumentation.rb:17:in `call\\' - better_errors (2.10.1) lib/better_errors/middleware.rb:87:in `protected_app_call\\' - better_errors (2.10.1) lib/better_errors/middleware.rb:82:in `better_errors_call\\' - better_errors (2.10.1) lib/better_errors/middleware.rb:60:in `call\\' - actionpack (7.1.2) lib/action_dispatch/middleware/debug_exceptions.rb:29:in `call\\' - actionpack (7.1.2) lib/action_dispatch/middleware/show_exceptions.rb:31:in `call\\' - railties (7.1.2) lib/rails/rack/logger.rb:37:in `call_app\\' - railties (7.1.2) lib/rails/rack/logger.rb:24:in `block call\\' - activesupport (7.1.2) lib/active_support/tagged_logging.rb:135:in `block tagged\\' - activesupport (7.1.2) lib/active_support/tagged_logging.rb:39:in `tagged\\' - activesupport (7.1.2) lib/active_support/tagged_logging.rb:135:in `tagged\\' - activesupport (7.1.2) lib/active_support/broadcast_logger.rb:240:in `method_missing\\' - railties (7.1.2) lib/rails/rack/logger.rb:24:in `call\\' - actionpack (7.1.2) lib/action_dispatch/middleware/remote_ip.rb:92:in `call\\' - actionpack (7.1.2) lib/action_dispatch/middleware/request_id.rb:28:in `call\\' - rack (2.2.8) lib/rack/runtime.rb:22:in `call\\' - activesupport (7.1.2) lib/active_support/cache/strategy/local_cache_middleware.rb:29:in `call\\' - actionpack (7.1.2) lib/action_dispatch/middleware/executor.rb:14:in `call\\' - actionpack (7.1.2) lib/action_dispatch/middleware/static.rb:25:in `call\\' - rack (2.2.8) lib/rack/sendfile.rb:110:in `call\\' - rack-cors (2.0.1) lib/rack/cors.rb:102:in `call\\' - railties (7.1.2) lib/rails/engine.rb:529:in `call\\' - rack-test (2.1.0) lib/rack/test.rb:360:in `process_request\\' - rack-test (2.1.0) lib/rack/test.rb:153:in `request\\' - actionpack (7.1.2) lib/action_dispatch/testing/integration.rb:288:in `process\\' - actionpack (7.1.2) lib/action_dispatch/testing/integration.rb:16:in `get\\' - actionpack (7.1.2) lib/action_dispatch/testing/integration.rb:379:in `get\\' - spec/requests/domains_spec.rb:298:in `block (3 levels) <top (required)>\\' - rspec-core (3.12.2) lib/rspec/core/example.rb:457:in `instance_exec\\' - rspec-core (3.12.2) lib/rspec/core/hooks.rb:365:in `run\\' - rspec-core (3.12.2) lib/rspec/core/hooks.rb:529:in `block run_owned_hooks_for\\' - rspec-core (3.12.2) lib/rspec/core/hooks.rb:528:in `run_owned_hooks_for\\' - rspec-core (3.12.2) lib/rspec/core/hooks.rb:615:in `block run_example_hooks_for\\' - rspec-core (3.12.2) lib/rspec/core/hooks.rb:614:in `run_example_hooks_for\\' - rspec-core (3.12.2) lib/rspec/core/hooks.rb:484:in `run\\' - rspec-core (3.12.2) lib/rspec/core/example.rb:505:in `run_before_example\\' - rspec-core (3.12.2) lib/rspec/core/example.rb:261:in `block run\\' - rspec-core (3.12.2) lib/rspec/core/example.rb:511:in `block with_around_and_singleton_context_hooks\\' - rspec-core (3.12.2) lib/rspec/core/example.rb:468:in `block with_around_example_hooks\\' - rspec-core (3.12.2) lib/rspec/core/hooks.rb:486:in `block run\\' - rspec-core (3.12.2) lib/rspec/core/hooks.rb:626:in `block run_around_example_hooks_for\\' - rspec-core (3.12.2) lib/rspec/core/example.rb:352:in `call\\' - rspec-rails (6.1.0) lib/rspec/rails/adapters.rb:75:in `block (2 levels) <module:minitestlifecycleadapter>\\' - rspec-core (3.12.2) lib/rspec/core/example.rb:457:in `instance_exec\\' - rspec-core (3.12.2) lib/rspec/core/hooks.rb:390:in `execute_with\\' - rspec-core (3.12.2) lib/rspec/core/hooks.rb:628:in `block (2 levels) run_around_example_hooks_for\\' - rspec-core (3.12.2) lib/rspec/core/example.rb:352:in `call\\' - spec/rails_helper.rb:103:in `block (3 levels) <top (required)>\\' - database_cleaner-core (2.0.1) lib/database_cleaner/strategy.rb:30:in `cleaning\\' - /users/max/.rbenv/versions/3.2.2/lib/ruby/3.2.0/forwardable.rb:240:in `cleaning\\' - database_cleaner-core (2.0.1) lib/database_cleaner/cleaners.rb:34:in `block (2 levels) cleaning\\' - database_cleaner-core (2.0.1) lib/database_cleaner/cleaners.rb:35:in `cleaning\\' - /users/max/.rbenv/versions/3.2.2/lib/ruby/3.2.0/forwardable.rb:240:in `cleaning\\' - spec/rails_helper.rb:102:in `block (2 levels) <top (required)>\\' - rspec-core (3.12.2) lib/rspec/core/example.rb:457:in `instance_exec\\' - rspec-core (3.12.2) lib/rspec/core/hooks.rb:390:in `execute_with\\' - rspec-core (3.12.2) lib/rspec/core/hooks.rb:628:in `block (2 levels) run_around_example_hooks_for\\' - rspec-core (3.12.2) lib/rspec/core/example.rb:352:in `call\\' - webmock (3.18.1) lib/webmock/rspec.rb:37:in `block (2 levels) <top (required)>\\' - rspec-core (3.12.2) lib/rspec/core/example.rb:457:in `instance_exec\\' - rspec-core (3.12.2) lib/rspec/core/hooks.rb:390:in `execute_with\\' - rspec-core (3.12.2) lib/rspec/core/hooks.rb:628:in `block (2 levels) run_around_example_hooks_for\\' - rspec-core (3.12.2) lib/rspec/core/example.rb:352:in `call\\' - rspec-core (3.12.2) lib/rspec/core/hooks.rb:629:in `run_around_example_hooks_for\\' - rspec-core (3.12.2) lib/rspec/core/hooks.rb:486:in `run\\' - rspec-core (3.12.2) lib/rspec/core/example.rb:468:in `with_around_example_hooks\\' - rspec-core (3.12.2) lib/rspec/core/example.rb:511:in `with_around_and_singleton_context_hooks\\' - rspec-core (3.12.2) lib/rspec/core/example.rb:259:in `run\\' - rspec-core (3.12.2) lib/rspec/core/example_group.rb:646:in `block run_examples\\' - rspec-core (3.12.2) lib/rspec/core/example_group.rb:642:in `run_examples\\' - rspec-core (3.12.2) lib/rspec/core/example_group.rb:607:in `run\\' - rspec-core (3.12.2) lib/rspec/core/example_group.rb:608:in `block run\\' - rspec-core (3.12.2) lib/rspec/core/example_group.rb:608:in `run\\' - rspec-core (3.12.2) lib/rspec/core/example_group.rb:608:in `block run\\' - rspec-core (3.12.2) lib/rspec/core/example_group.rb:608:in `run\\' - rspec-core (3.12.2) lib/rspec/core/runner.rb:121:in `block (3 levels) run_specs\\' - rspec-core (3.12.2) lib/rspec/core/runner.rb:121:in `block (2 levels) run_specs\\' - rspec-core (3.12.2) lib/rspec/core/configuration.rb:2070:in `with_suite_hooks\\' - rspec-core (3.12.2) lib/rspec/core/runner.rb:116:in `block run_specs\\' - rspec-core (3.12.2) lib/rspec/core/reporter.rb:74:in `report\\' - rspec-core (3.12.2) lib/rspec/core/runner.rb:115:in `run_specs\\' - rspec-core (3.12.2) lib/rspec/core/runner.rb:89:in `run\\' - rspec-core (3.12.2) lib/rspec/core/runner.rb:71:in `run\\' - rspec-core (3.12.2) lib/rspec/core/runner.rb:45:in `invoke\\' - rspec-core (3.12.2) exe/rspec:4:in `<top (required)>\\' - /users/max/.rbenv/versions/3.2.2/bin/rspec:25:in `<top (required)>\\' - /users/max/.rbenv/versions/3.2.2/lib/ruby/site_ruby/3.2.0/bundler/cli/exec.rb:58:in `kernel_load\\' - /users/max/.rbenv/versions/3.2.2/lib/ruby/site_ruby/3.2.0/bundler/cli/exec.rb:23:in `run\\' - /users/max/.rbenv/versions/3.2.2/lib/ruby/site_ruby/3.2.0/bundler/cli.rb:492:in `exec\\' - /users/max/.rbenv/versions/3.2.2/lib/ruby/site_ruby/3.2.0/bundler/vendor/thor/lib/thor/command.rb:27:in `run\\' - /users/max/.rbenv/versions/3.2.2/lib/ruby/site_ruby/3.2.0/bundler/vendor/thor/lib/thor/invocation.rb:127:in `invoke_command\\' - /users/max/.rbenv/versions/3.2.2/lib/ruby/site_ruby/3.2.0/bundler/vendor/thor/lib/thor.rb:392:in `dispatch\\' - /users/max/.rbenv/versions/3.2.2/lib/ruby/site_ruby/3.2.0/bundler/cli.rb:34:in `dispatch\\' - /users/max/.rbenv/versions/3.2.2/lib/ruby/site_ruby/3.2.0/bundler/vendor/thor/lib/thor/base.rb:485:in `start\\' - /users/max/.rbenv/versions/3.2.2/lib/ruby/site_ruby/3.2.0/bundler/cli.rb:28:in `start\\' - bundler (2.4.19) exe/bundle:37:in `block <top (required)>\\' - /users/max/.rbenv/versions/3.2.2/lib/ruby/site_ruby/3.2.0/bundler/friendly_errors.rb:117:in `with_friendly_errors\\' - bundler (2.4.19) exe/bundle:29:in `<top (required)>\\' - /users/max/.rbenv/versions/3.2.2/bin/bundle:25:in `<main>\\' ```',\n",
              " 'active_record_migrations.rb raises `unknown migration version \"7.2\"; expected \"4.2\", \"5.0\", \"5.1\", \"5.2\", \"6.0\", \"6.1\", \"7.0\", \"7.1\" (argumenterror)` ci failure https://buildkite.com/rails/rails/builds/102815#018c7671-f43c-4e7a-a654-03893ab28d0f/1384-1395 ### steps reproduce ```ruby git clone https://github.com/rails/rails cd rails/guides/bug_report_templates ruby active_record_migrations.rb ``` ### expected behavior pass. ### actual behavior raises `unknown migration version \"7.2\"; expected \"4.2\", \"5.0\", \"5.1\", \"5.2\", \"6.0\", \"6.1\", \"7.0\", \"7.1\" (argumenterror)`. ```ruby $ ruby active_record_migrations.rb fetching gem metadata https://rubygems.org/........... resolving dependencies.... rake 13.1.0 base64 0.2.0 timeout 0.4.1 mini_mime 1.1.5 date 3.3.4 bundler 2.3.22 io-console 0.7.1 stringio 3.1.0 webrick 1.8.1 thor 1.3.0 sqlite3 1.6.9 (x86_64-linux) net-protocol 0.2.2 psych 5.1.1.1 reline 0.4.1 connection_pool 2.4.1 ruby2_keywords 0.0.5 minitest 5.20.0 mutex_m 0.2.0 builder 3.2.4 erubi 1.12.0 racc 1.7.3 crass 1.0.6 rack 3.0.8 drb 2.2.0 nokogiri 1.15.5 (x86_64-linux) net-imap 0.4.8 net-pop 0.1.2 net-smtp 0.4.0 rdoc 6.6.2 websocket-extensions 0.1.5 bigdecimal 3.1.5 marcel 1.0.2 concurrent-ruby 1.2.2 nio4r 2.7.0 loofah 2.22.0 rack-session 2.0.0 rack-test 2.1.0 websocket-driver 0.7.6 mail 2.8.1 irb 1.10.1 rackup 2.1.0 zeitwerk 2.6.12 i18n 1.14.1 rails-html-sanitizer 1.6.0 tzinfo 2.0.6 activesupport 7.1.2 rails-dom-testing 2.2.0 globalid 1.2.1 activemodel 7.1.2 actionview 7.1.2 activejob 7.1.2 activerecord 7.1.2 actionpack 7.1.2 activestorage 7.1.2 actionmailer 7.1.2 actionmailbox 7.1.2 actioncable 7.1.2 actiontext 7.1.2 railties 7.1.2 rails 7.1.2 -- create_table(:payments, {:force=>true}) d, [2023-12-17t17:32:35.577211 #823527] debug -- : (0.0ms) drop table exists \"payments\" d, [2023-12-17t17:32:35.577532 #823527] debug -- : (0.1ms) create table \"payments\" (\"id\" integer primary key autoincrement null, \"amount\" decimal(10,0) default 0 null) -> 0.0078s d, [2023-12-17t17:32:35.578502 #823527] debug -- : (0.1ms) create table \"schema_migrations\" (\"version\" varchar null primary key) d, [2023-12-17t17:32:35.579533 #823527] debug -- : (0.1ms) create table \"ar_internal_metadata\" (\"key\" varchar null primary key, \"value\" varchar, \"created_at\" datetime(6) null, \"updated_at\" datetime(6) null) d, [2023-12-17t17:32:35.592536 #823527] debug -- : activerecord::internalmetadata load (1.1ms) select * \"ar_internal_metadata\" \"ar_internal_metadata\".\"key\" = ? order \"ar_internal_metadata\".\"key\" asc limit 1 [[nil, \"environment\"]] d, [2023-12-17t17:32:35.592848 #823527] debug -- : activerecord::internalmetadata create (0.1ms) insert \"ar_internal_metadata\" (\"key\", \"value\", \"created_at\", \"updated_at\") values (\\'environment\\', \\'development\\', \\'2023-12-17 08:32:35.592603\\', \\'2023-12-17 08:32:35.592607\\') returning \"key\" /home/yahonda/.rbenv/versions/3.2.2/lib/ruby/gems/3.2.0/gems/activerecord-7.1.2/lib/active_record/migration/compatibility.rb:11:in `find\\': unknown migration version \"7.2\"; expected \"4.2\", \"5.0\", \"5.1\", \"5.2\", \"6.0\", \"6.1\", \"7.0\", \"7.1\" (argumenterror) raise argumenterror, \"unknown migration version #{version.inspect}; expected #{versions.sort.join(\\', \\')}\" ^^^^^^^^^^^^^^^^^^^^^^^^^^^^^^^^^^^^^^^^^^^^^^^^^^^^^^^^^^^^^^^^^^^^^^^^^^^^^^^^^^^^^^^^^^^^^^^^^^^^^^^^^^ /home/yahonda/.rbenv/versions/3.2.2/lib/ruby/gems/3.2.0/gems/activerecord-7.1.2/lib/active_record/migration.rb:613:in `[]\\' active_record_migrations.rb:34:in `<main>\\' yahonda@myryzen:~/src/github.com/rails/rails/guides/bug_report_templates$ yahonda@myryzen:~/src/github.com/rails/rails/guides/bug_report_templates$ yahonda@myryzen:~/src/github.com/rails/rails/guides/bug_report_templates$ yahonda@myryzen:~/src/github.com/rails/rails/guides/bug_report_templates$ yahonda@myryzen:~/src/github.com/rails/rails/guides/bug_report_templates$ ruby active_record_migrations.rb fetching gem metadata https://rubygems.org/........... resolving dependencies.... rake 13.1.0 base64 0.2.0 bigdecimal 3.1.5 concurrent-ruby 1.2.2 connection_pool 2.4.1 ruby2_keywords 0.0.5 minitest 5.20.0 mutex_m 0.2.0 builder 3.2.4 erubi 1.12.0 racc 1.7.3 crass 1.0.6 rack 3.0.8 nio4r 2.7.0 websocket-extensions 0.1.5 zeitwerk 2.6.12 timeout 0.4.1 marcel 1.0.2 mini_mime 1.1.5 date 3.3.4 bundler 2.3.22 io-console 0.7.1 stringio 3.1.0 webrick 1.8.1 thor 1.3.0 sqlite3 1.6.9 (x86_64-linux) drb 2.2.0 i18n 1.14.1 tzinfo 2.0.6 nokogiri 1.15.5 (x86_64-linux) rack-session 2.0.0 rack-test 2.1.0 websocket-driver 0.7.6 net-protocol 0.2.2 psych 5.1.1.1 reline 0.4.1 rackup 2.1.0 activesupport 7.1.2 loofah 2.22.0 net-imap 0.4.8 net-pop 0.1.2 net-smtp 0.4.0 rdoc 6.6.2 rails-dom-testing 2.2.0 irb 1.10.1 globalid 1.2.1 activemodel 7.1.2 activejob 7.1.2 rails-html-sanitizer 1.6.0 mail 2.8.1 activerecord 7.1.2 actionview 7.1.2 actionpack 7.1.2 actioncable 7.1.2 activestorage 7.1.2 actionmailer 7.1.2 railties 7.1.2 actionmailbox 7.1.2 actiontext 7.1.2 rails 7.1.2 -- create_table(:payments, {:force=>true}) d, [2023-12-17t17:33:01.178868 #823958] debug -- : (0.0ms) drop table exists \"payments\" d, [2023-12-17t17:33:01.179208 #823958] debug -- : (0.1ms) create table \"payments\" (\"id\" integer primary key autoincrement null, \"amount\" decimal(10,0) default 0 null) -> 0.0077s d, [2023-12-17t17:33:01.180190 #823958] debug -- : (0.1ms) create table \"schema_migrations\" (\"version\" varchar null primary key) d, [2023-12-17t17:33:01.181233 #823958] debug -- : (0.1ms) create table \"ar_internal_metadata\" (\"key\" varchar null primary key, \"value\" varchar, \"created_at\" datetime(6) null, \"updated_at\" datetime(6) null) d, [2023-12-17t17:33:01.194049 #823958] debug -- : activerecord::internalmetadata load (0.9ms) select * \"ar_internal_metadata\" \"ar_internal_metadata\".\"key\" = ? order \"ar_internal_metadata\".\"key\" asc limit 1 [[nil, \"environment\"]] d, [2023-12-17t17:33:01.194366 #823958] debug -- : activerecord::internalmetadata create (0.1ms) insert \"ar_internal_metadata\" (\"key\", \"value\", \"created_at\", \"updated_at\") values (\\'environment\\', \\'development\\', \\'2023-12-17 08:33:01.194117\\', \\'2023-12-17 08:33:01.194121\\') returning \"key\" /home/yahonda/.rbenv/versions/3.2.2/lib/ruby/gems/3.2.0/gems/activerecord-7.1.2/lib/active_record/migration/compatibility.rb:11:in `find\\': unknown migration version \"7.2\"; expected \"4.2\", \"5.0\", \"5.1\", \"5.2\", \"6.0\", \"6.1\", \"7.0\", \"7.1\" (argumenterror) raise argumenterror, \"unknown migration version #{version.inspect}; expected #{versions.sort.join(\\', \\')}\" ^^^^^^^^^^^^^^^^^^^^^^^^^^^^^^^^^^^^^^^^^^^^^^^^^^^^^^^^^^^^^^^^^^^^^^^^^^^^^^^^^^^^^^^^^^^^^^^^^^^^^^^^^^ /home/yahonda/.rbenv/versions/3.2.2/lib/ruby/gems/3.2.0/gems/activerecord-7.1.2/lib/active_record/migration.rb:613:in `[]\\' active_record_migrations.rb:34:in `<main>\\' $ ``` ### system configuration **rails version**: main branch **ruby version**: ruby 3.2.2 (2023-03-30 revision e51014f9c0) [x86_64-linux]',\n",
              " 'activerecord 7.1 regression model scoping callback created association ### steps reproduce <!-- (guidelines creating bug report [available here](https://edgeguides.rubyonrails.org/contributing_to_ruby_on_rails.html#creating-a-bug-report)) --> <!-- paste executable test case created scripts found [here](https://edgeguides.rubyonrails.org/contributing_to_ruby_on_rails.html#create-an-executable-test-case) below: --> ```ruby # frozen_string_literal: true require \"rubygems\" require \"bundler/inline\" gemfile(true) source \"https://rubygems.org\" git_source(:github) { |repo| \"https://github.com/#{repo}.git\" } # activate gem reporting issue against. gem \"activerecord\", \"~> 7.1.0\" gem \"sqlite3\" end require \"active_record\" require \"minitest/autorun\" require \"logger\" # connection database-independent bug reports. activerecord::base.establish_connection(adapter: \"sqlite3\", database: \":memory:\") activerecord::base.logger = logger.new(stdout) activerecord::schema.define create_table :versions, force: true |t| t.references :api_key t.references :rubygem t.string :number t.string :platform t.boolean :latest, default: false t.boolean :indexed, default: false end create_table :rubygems, force: true |t| end create_table :api_keys, force: true |t| end end class version < activerecord::base belongs_to :rubygem belongs_to :api_key after_save :reorder_versions, if: -> { saved_change_to_id? } delegate :reorder_versions, to: :rubygem end class rubygem < activerecord::base has_many :versions def reorder_versions logger.info version.all.to_sql versions_of_platforms = versions .group_by(&:platform) versions_of_platforms.each_value |platforms| version.find(platforms.max.id).update_column(:latest, true) end end end class apikey < activerecord::base has_many :versions end class bugtest < minitest::test def test_association_stuff gem1 = rubygem.create! api_key = apikey.create! v1 = version.create!(rubygem: gem1, platform: \"ruby\", indexed: true) v2 = version.create!(rubygem: gem1, api_key:, platform: \"ruby\", indexed: true) api_key.versions.create_with(indexed: true).find_or_create_by!( rubygem: gem1, number: \"0.1.0\", platform: \"ruby\" ) assert_equal 3, gem1.reload.versions.count end end ``` ### expected behavior rails 7.0.x, test case passes logged `version.all.to_sql` callback `select \"versions\".* \"versions\"` ### actual behavior rails 7.1.2, test case fails ``` activerecord::recordnotfound: find version \\'id\\'=1 [where \"versions\".\"api_key_id\" = ?] /users/segiddins/.gem/ruby/3.2.2/gems/activerecord-7.1.0/lib/active_record/relation/finder_methods.rb:416:in `raise_record_not_found_exception!\\' /users/segiddins/.gem/ruby/3.2.2/gems/activerecord-7.1.0/lib/active_record/relation/finder_methods.rb:522:in `find_one\\' /users/segiddins/.gem/ruby/3.2.2/gems/activerecord-7.1.0/lib/active_record/relation/finder_methods.rb:499:in `find_with_ids\\' /users/segiddins/.gem/ruby/3.2.2/gems/activerecord-7.1.0/lib/active_record/relation/finder_methods.rb:92:in `find\\' /users/segiddins/.gem/ruby/3.2.2/gems/activerecord-7.1.0/lib/active_record/querying.rb:23:in `find\\' /users/segiddins/.gem/ruby/3.2.2/gems/activerecord-7.1.0/lib/active_record/core.rb:245:in `find\\' untitled.rb:59:in `block reorder_versions\\' untitled.rb:58:in `each_value\\' untitled.rb:58:in `reorder_versions\\' untitled.rb:46:in `reorder_versions\\' ``` logged query `select \"versions\".* \"versions\" \"versions\".\"api_key_id\" = 1` ### system configuration **rails version**: 7.1.2 **ruby version**: 3.2.2']"
            ]
          },
          "metadata": {},
          "execution_count": 15
        }
      ],
      "source": [
        "len(labels[0])\n",
        "texts[:5]"
      ]
    },
    {
      "cell_type": "markdown",
      "metadata": {
        "id": "XYz_Y6ARIU8j"
      },
      "source": [
        "## Model Building"
      ]
    },
    {
      "cell_type": "code",
      "execution_count": 16,
      "metadata": {
        "id": "jh6gZKGwAQpk"
      },
      "outputs": [],
      "source": [
        "import torch\n",
        "from transformers import DistilBertTokenizer, AutoTokenizer\n",
        "from transformers import DistilBertForSequenceClassification, AutoModelForSequenceClassification\n",
        "from sklearn.model_selection import train_test_split\n",
        "from torch.utils.data import Dataset"
      ]
    },
    {
      "cell_type": "code",
      "execution_count": 17,
      "metadata": {
        "id": "18meHko-AQmj"
      },
      "outputs": [],
      "source": [
        "train_texts, val_texts, train_labels, val_labels = train_test_split(texts, labels,\n",
        "                                                                    test_size=0.2, random_state=42)\n",
        "\n"
      ]
    },
    {
      "cell_type": "code",
      "source": [
        "val_labels"
      ],
      "metadata": {
        "colab": {
          "base_uri": "https://localhost:8080/"
        },
        "id": "KGSSM33ykTu_",
        "outputId": "05c26f93-99eb-447f-b0c3-35bc8bfddebf"
      },
      "execution_count": 18,
      "outputs": [
        {
          "output_type": "execute_result",
          "data": {
            "text/plain": [
              "array([[0., 0., 0., ..., 0., 0., 0.],\n",
              "       [0., 0., 0., ..., 0., 0., 1.],\n",
              "       [0., 0., 0., ..., 0., 1., 0.],\n",
              "       ...,\n",
              "       [0., 0., 1., ..., 0., 0., 0.],\n",
              "       [0., 0., 0., ..., 0., 1., 0.],\n",
              "       [0., 0., 1., ..., 0., 0., 0.]], dtype=float32)"
            ]
          },
          "metadata": {},
          "execution_count": 18
        }
      ]
    },
    {
      "cell_type": "code",
      "execution_count": 19,
      "metadata": {
        "id": "BYX8Ls1qAQj3",
        "colab": {
          "base_uri": "https://localhost:8080/",
          "height": 232,
          "referenced_widgets": [
            "5f4f785b84584b178be353c594d38d0d",
            "f6447dbe35004e1c86172a07155ab024",
            "ae083f59108841eabe9b365fb8842968",
            "9efb53b56c2e4034847265265662bd55",
            "26f53a16930143a1a085a3119cb73830",
            "9da42902c6fc4133aaaff304519b121b",
            "641a241ca9134beb8279f979627d0295",
            "4d898c9fcb2f4a92b2423e3650ce7850",
            "6db4f54cf87d481584e885d066079695",
            "4142b70ffc9e4f579498eb2d9933b06d",
            "2f38a37a9e4744c0ae58dd2add1090ed",
            "83a1638ab47c460b8324d220cee34b48",
            "df66c475ff2748dc9106dc780758d0e9",
            "bf40cd0324e1454cabc4af21ac790f27",
            "554f8b7063584b2493922a5791b29b33",
            "cbd075cf980a48b4b6285af52a83e565",
            "c6b5c73e55034d2683ee35e9d3859ead",
            "fe94daece8b8489597fc8a9c4e26eb43",
            "07de52907db64ce79abb7032740a47a3",
            "a2e7bb8fcfc44d4aa3495584e9afde19",
            "f4cb188849434ab58c59e2abd13d7241",
            "b317ca16750543e4af8d2ebf02719a06",
            "9fc72146628d4511aab17fda78e56742",
            "373ff29370bf4316b0377f9ae593c1bb",
            "2f05ece7f3c34ec7a02ce1dd74baf19a",
            "1f048a3c6e9944148a8d4028e05b2c52",
            "02841c1924824121a7c6f72cc1336659",
            "470b943ee5fd4a0687ffed47e2f6f92c",
            "68bc8dc302714355b4a6732a49b2c299",
            "a6761c10004b4cc0aaaba38ccefd6a5f",
            "8ae8bb6dd13f4d68ab5a09e28c08fe54",
            "e3a4063c5c004ab09d122ca4eb36ab33",
            "f82be000113a47fbaaad7a2cbd79c0f4",
            "e75863a8fdfb4990993eb23e6b4ab88c",
            "cb80ba15a6e04581a56b3c62da370f4b",
            "dfe98eb36ea343fd9af4b207c48126df",
            "d470e6dc35b74b9c94e66e5118b93841",
            "d525205087274ddeb41fb98f9dcec5ba",
            "597134645d5e4a20b9e1d79efae0f117",
            "0447fdcc4e44415aa14dc657f0eb9361",
            "4e617538c93c44dbb1674d6bd04f4343",
            "0d75647a18cc41a9b04b4d8e21c70b11",
            "bc05c038a26b425da13103336518dd29",
            "072b8e5277f040c8a537cd1357617654",
            "249747b0bc134a999b3a6937d8aa6f56",
            "4389388b14a243e9b67b708a651fb007",
            "288c550dd5c342b2b042e1563c4a4e35",
            "93bbfa64f9c84e3182f1a9ecfa27caf3",
            "319e8050abfb4b0e94cd7c4db3b341d4",
            "fe56f9b9e49a4afc804adefbac309ce5",
            "0bdf4b03609949bba44f6431f19bb968",
            "e962afa6ed69449e87c19102065384b7",
            "d788c01efb6447078283ac47daf0a93c",
            "dbf0df9cd7de42d295f63e9b7f1bc843",
            "354f1e25fd354004bf39c017d0188d20"
          ]
        },
        "outputId": "980d0f87-52c5-4370-916d-89acc896d066"
      },
      "outputs": [
        {
          "output_type": "display_data",
          "data": {
            "text/plain": [
              "tokenizer_config.json:   0%|          | 0.00/28.0 [00:00<?, ?B/s]"
            ],
            "application/vnd.jupyter.widget-view+json": {
              "version_major": 2,
              "version_minor": 0,
              "model_id": "5f4f785b84584b178be353c594d38d0d"
            }
          },
          "metadata": {}
        },
        {
          "output_type": "display_data",
          "data": {
            "text/plain": [
              "vocab.txt:   0%|          | 0.00/232k [00:00<?, ?B/s]"
            ],
            "application/vnd.jupyter.widget-view+json": {
              "version_major": 2,
              "version_minor": 0,
              "model_id": "83a1638ab47c460b8324d220cee34b48"
            }
          },
          "metadata": {}
        },
        {
          "output_type": "display_data",
          "data": {
            "text/plain": [
              "tokenizer.json:   0%|          | 0.00/466k [00:00<?, ?B/s]"
            ],
            "application/vnd.jupyter.widget-view+json": {
              "version_major": 2,
              "version_minor": 0,
              "model_id": "9fc72146628d4511aab17fda78e56742"
            }
          },
          "metadata": {}
        },
        {
          "output_type": "display_data",
          "data": {
            "text/plain": [
              "config.json:   0%|          | 0.00/483 [00:00<?, ?B/s]"
            ],
            "application/vnd.jupyter.widget-view+json": {
              "version_major": 2,
              "version_minor": 0,
              "model_id": "e75863a8fdfb4990993eb23e6b4ab88c"
            }
          },
          "metadata": {}
        },
        {
          "output_type": "display_data",
          "data": {
            "text/plain": [
              "model.safetensors:   0%|          | 0.00/268M [00:00<?, ?B/s]"
            ],
            "application/vnd.jupyter.widget-view+json": {
              "version_major": 2,
              "version_minor": 0,
              "model_id": "249747b0bc134a999b3a6937d8aa6f56"
            }
          },
          "metadata": {}
        },
        {
          "output_type": "stream",
          "name": "stderr",
          "text": [
            "Some weights of DistilBertForSequenceClassification were not initialized from the model checkpoint at distilbert-base-uncased and are newly initialized: ['pre_classifier.bias', 'classifier.weight', 'classifier.bias', 'pre_classifier.weight']\n",
            "You should probably TRAIN this model on a down-stream task to be able to use it for predictions and inference.\n"
          ]
        }
      ],
      "source": [
        "checkpoint = \"distilbert-base-uncased\"\n",
        "tokenizer = DistilBertTokenizer.from_pretrained(checkpoint)\n",
        "model = DistilBertForSequenceClassification.from_pretrained(checkpoint, num_labels=len(labels[0]),\n",
        "                                                            problem_type=\"multi_label_classification\")"
      ]
    },
    {
      "cell_type": "code",
      "execution_count": 20,
      "metadata": {
        "id": "DBkkEIQ3AQfr",
        "colab": {
          "base_uri": "https://localhost:8080/"
        },
        "outputId": "6b6a698f-42b7-43c4-8299-6fc59a7cce8a"
      },
      "outputs": [
        {
          "output_type": "execute_result",
          "data": {
            "text/plain": [
              "array([0., 0., 1., 0., 0., 0., 0., 0., 0., 0., 1., 0., 0., 0., 1., 0., 0.,\n",
              "       0., 0., 0., 0., 0., 0., 0., 0., 0., 0., 0., 0., 0.], dtype=float32)"
            ]
          },
          "metadata": {},
          "execution_count": 20
        }
      ],
      "source": [
        "labels[0]"
      ]
    },
    {
      "cell_type": "code",
      "execution_count": 21,
      "metadata": {
        "id": "Cq8lJXg9AQcZ"
      },
      "outputs": [],
      "source": [
        "# Lets build custom dataset\n",
        "class CustomDataset(Dataset):\n",
        "  def __init__(self, texts, labels, tokenizer, max_len=128):\n",
        "    self.texts = texts\n",
        "    self.labels = labels\n",
        "    self.tokenizer = tokenizer\n",
        "    self.max_len = max_len\n",
        "\n",
        "  def __len__(self):\n",
        "    return len(self.texts)\n",
        "\n",
        "  def __getitem__(self, idx):\n",
        "    text = str(self.texts[idx])\n",
        "    label = torch.tensor(self.labels[idx])\n",
        "\n",
        "    encoding = self.tokenizer(text, truncation=True, padding=\"max_length\", max_length=self.max_len, return_tensors='pt')\n",
        "\n",
        "    return {\n",
        "        'input_ids': encoding['input_ids'].flatten(),\n",
        "        'attention_mask': encoding['attention_mask'].flatten(),\n",
        "        'labels': label\n",
        "    }\n",
        "\n"
      ]
    },
    {
      "cell_type": "code",
      "execution_count": 22,
      "metadata": {
        "id": "IRnAqW6QAQZ0"
      },
      "outputs": [],
      "source": [
        "train_dataset = CustomDataset(train_texts, train_labels, tokenizer)\n",
        "val_dataset = CustomDataset(val_texts, val_labels, tokenizer)"
      ]
    },
    {
      "cell_type": "code",
      "execution_count": 23,
      "metadata": {
        "id": "apwyGnyaAQVW",
        "colab": {
          "base_uri": "https://localhost:8080/"
        },
        "outputId": "9e85b6b3-cf65-4f24-dd4b-937d16f30122"
      },
      "outputs": [
        {
          "output_type": "execute_result",
          "data": {
            "text/plain": [
              "{'input_ids': tensor([  101, 14593,  1035, 17961,  3957,  2139, 28139, 10719,  5432,  3573,\n",
              "         12332, 15168,  1021,  1012,  1015, 25925, 10439, 15168,  1021,  1012,\n",
              "          1014, 15168,  1021,  1012,  1015,  1045,  1005,  1049,  2893, 16234,\n",
              "          1024,  2139, 28139, 10719,  5432,  1024,  2026,  5302,  9247,  2944,\n",
              "         14593,  2229,  1036,  1056,  1036,  1010,  1036,  1056,  1036, 17961,\n",
              "          1012,  3225, 15168,  1021,  1012,  1016,  1010, 14593,  1035, 17961,\n",
              "          2512,  1011, 17961,  7889,  5333,  1012, 17961,  2215, 14593,  4225,\n",
              "          3161,  2501,  3573,  1012,  5248,  3107, 10975,  1031,  4466,  2683,\n",
              "          2581,  2475,  1033,  1006, 16770,  1024,  1013,  1013, 21025,  2705,\n",
              "         12083,  1012,  4012,  1013, 15168,  1013, 15168,  1013,  4139,  1013,\n",
              "          4466,  2683,  2581,  2475,  1007,  1012,  1001,  1001,  1001,  4084,\n",
              "         21376,  1036,  1036,  1036, 10090,  1001,  7708,  1035,  5164,  1035,\n",
              "         18204,  1024,  2995,  5478,  1000, 14012,  2099,   102]),\n",
              " 'attention_mask': tensor([1, 1, 1, 1, 1, 1, 1, 1, 1, 1, 1, 1, 1, 1, 1, 1, 1, 1, 1, 1, 1, 1, 1, 1,\n",
              "         1, 1, 1, 1, 1, 1, 1, 1, 1, 1, 1, 1, 1, 1, 1, 1, 1, 1, 1, 1, 1, 1, 1, 1,\n",
              "         1, 1, 1, 1, 1, 1, 1, 1, 1, 1, 1, 1, 1, 1, 1, 1, 1, 1, 1, 1, 1, 1, 1, 1,\n",
              "         1, 1, 1, 1, 1, 1, 1, 1, 1, 1, 1, 1, 1, 1, 1, 1, 1, 1, 1, 1, 1, 1, 1, 1,\n",
              "         1, 1, 1, 1, 1, 1, 1, 1, 1, 1, 1, 1, 1, 1, 1, 1, 1, 1, 1, 1, 1, 1, 1, 1,\n",
              "         1, 1, 1, 1, 1, 1, 1, 1]),\n",
              " 'labels': tensor([0., 0., 1., 0., 0., 0., 0., 0., 0., 0., 1., 0., 0., 0., 0., 0., 0., 0.,\n",
              "         0., 0., 0., 0., 0., 0., 0., 0., 0., 0., 0., 0.])}"
            ]
          },
          "metadata": {},
          "execution_count": 23
        }
      ],
      "source": [
        "val_dataset[99]"
      ]
    },
    {
      "cell_type": "code",
      "execution_count": 25,
      "metadata": {
        "id": "wKrSFl7uAQSY"
      },
      "outputs": [],
      "source": [
        "# Multi-Label Classification Evaluation Metrics\n",
        "import numpy as np\n",
        "from sklearn.metrics import roc_auc_score, f1_score, hamming_loss\n",
        "from transformers import EvalPrediction\n",
        "import torch\n",
        "\n",
        "\n",
        "def multi_labels_metrics(predictions, labels, threshold=0.3):\n",
        "  sigmoid = torch.nn.Sigmoid()\n",
        "  probs = sigmoid(torch.Tensor(predictions))\n",
        "\n",
        "  y_pred = np.zeros(probs.shape)\n",
        "  y_pred[np.where(probs>=threshold)] = 1\n",
        "  y_true = labels\n",
        "\n",
        "  f1 = f1_score(y_true, y_pred, average = 'macro',zero_division=1)\n",
        "  #roc_auc = roc_auc_score(y_true, y_pred, average = 'macro')\n",
        "  hamming = hamming_loss(y_true, y_pred)\n",
        "\n",
        "  metrics = {\n",
        "      #\"roc_auc\": roc_auc,\n",
        "      \"hamming_loss\": hamming,\n",
        "      \"f1\": f1\n",
        "  }\n",
        "\n",
        "  return metrics\n",
        "\n",
        "def compute_metrics(p:EvalPrediction):\n",
        "  preds = p.predictions[0] if isinstance(p.predictions, tuple) else p.predictions\n",
        "\n",
        "  result = multi_labels_metrics(predictions=preds,\n",
        "                                labels=p.label_ids)\n",
        "\n",
        "  return result"
      ]
    },
    {
      "cell_type": "code",
      "execution_count": 26,
      "metadata": {
        "id": "90-oWoW_AQPS"
      },
      "outputs": [],
      "source": [
        "# Training Arguments\n",
        "from transformers import TrainingArguments, Trainer\n",
        "\n",
        "args = TrainingArguments(\n",
        "    per_device_train_batch_size=8,\n",
        "    per_device_eval_batch_size=8,\n",
        "    output_dir = './results',\n",
        "    num_train_epochs=5,\n",
        "    save_steps=1000,\n",
        "    save_total_limit=2\n",
        ")\n",
        "\n",
        "trainer = Trainer(model=model,\n",
        "                  args=args,\n",
        "                  train_dataset=train_dataset,\n",
        "                  eval_dataset = val_dataset,\n",
        "                  compute_metrics=compute_metrics)"
      ]
    },
    {
      "cell_type": "code",
      "execution_count": 27,
      "metadata": {
        "colab": {
          "base_uri": "https://localhost:8080/",
          "height": 110
        },
        "id": "LmQTXOmAAQMH",
        "outputId": "55bd9da8-1a7b-4e91-8817-62114b021682"
      },
      "outputs": [
        {
          "output_type": "display_data",
          "data": {
            "text/plain": [
              "<IPython.core.display.HTML object>"
            ],
            "text/html": [
              "\n",
              "    <div>\n",
              "      \n",
              "      <progress value='250' max='250' style='width:300px; height:20px; vertical-align: middle;'></progress>\n",
              "      [250/250 00:44, Epoch 5/5]\n",
              "    </div>\n",
              "    <table border=\"1\" class=\"dataframe\">\n",
              "  <thead>\n",
              " <tr style=\"text-align: left;\">\n",
              "      <th>Step</th>\n",
              "      <th>Training Loss</th>\n",
              "    </tr>\n",
              "  </thead>\n",
              "  <tbody>\n",
              "  </tbody>\n",
              "</table><p>"
            ]
          },
          "metadata": {}
        },
        {
          "output_type": "execute_result",
          "data": {
            "text/plain": [
              "TrainOutput(global_step=250, training_loss=0.21381629943847658, metrics={'train_runtime': 46.4448, 'train_samples_per_second': 43.062, 'train_steps_per_second': 5.383, 'total_flos': 66266772480000.0, 'train_loss': 0.21381629943847658, 'epoch': 5.0})"
            ]
          },
          "metadata": {},
          "execution_count": 27
        }
      ],
      "source": [
        "trainer.train()"
      ]
    },
    {
      "cell_type": "code",
      "execution_count": 28,
      "metadata": {
        "colab": {
          "base_uri": "https://localhost:8080/",
          "height": 158
        },
        "id": "NNRjzdysAQJA",
        "outputId": "de6593ba-7179-4af3-8d51-6c7625b0a11d"
      },
      "outputs": [
        {
          "output_type": "display_data",
          "data": {
            "text/plain": [
              "<IPython.core.display.HTML object>"
            ],
            "text/html": [
              "\n",
              "    <div>\n",
              "      \n",
              "      <progress value='13' max='13' style='width:300px; height:20px; vertical-align: middle;'></progress>\n",
              "      [13/13 00:01]\n",
              "    </div>\n",
              "    "
            ]
          },
          "metadata": {}
        },
        {
          "output_type": "execute_result",
          "data": {
            "text/plain": [
              "{'eval_loss': 0.16086244583129883,\n",
              " 'eval_hamming_loss': 0.057,\n",
              " 'eval_f1': 0.3216216216216216,\n",
              " 'eval_runtime': 1.8905,\n",
              " 'eval_samples_per_second': 52.897,\n",
              " 'eval_steps_per_second': 6.877,\n",
              " 'epoch': 5.0}"
            ]
          },
          "metadata": {},
          "execution_count": 28
        }
      ],
      "source": [
        "trainer.evaluate()"
      ]
    },
    {
      "cell_type": "code",
      "execution_count": 29,
      "metadata": {
        "id": "K392yKc7AQFu"
      },
      "outputs": [],
      "source": [
        "trainer.save_model(\"distilbert-finetuned-rails-multi-label\")"
      ]
    },
    {
      "cell_type": "code",
      "execution_count": 30,
      "metadata": {
        "id": "X2cBGd3UAQCc"
      },
      "outputs": [],
      "source": [
        "import pickle\n",
        "with open(\"multi-label-binarizer.pkl\", \"wb\") as f:\n",
        "  pickle.dump(multilabel, f)"
      ]
    },
    {
      "cell_type": "code",
      "execution_count": 31,
      "metadata": {
        "colab": {
          "base_uri": "https://localhost:8080/"
        },
        "id": "nezhJTbyAP_c",
        "outputId": "25c8af07-ef89-441a-c604-05fc8abc0f95"
      },
      "outputs": [
        {
          "output_type": "stream",
          "name": "stdout",
          "text": [
            "  adding: content/distilbert-finetuned-rails-multi-label/ (stored 0%)\n",
            "  adding: content/distilbert-finetuned-rails-multi-label/model.safetensors (deflated 8%)\n",
            "  adding: content/distilbert-finetuned-rails-multi-label/config.json (deflated 65%)\n",
            "  adding: content/distilbert-finetuned-rails-multi-label/training_args.bin (deflated 51%)\n"
          ]
        }
      ],
      "source": [
        "!zip -r distilbert.zip \"/content/distilbert-finetuned-rails-multi-label\""
      ]
    },
    {
      "cell_type": "markdown",
      "metadata": {
        "id": "Y4v7i8sTUO5T"
      },
      "source": [
        "# Predictions"
      ]
    },
    {
      "cell_type": "code",
      "source": [
        "from neattext.functions import clean_text"
      ],
      "metadata": {
        "id": "ADITSkCRjWCY"
      },
      "execution_count": 32,
      "outputs": []
    },
    {
      "cell_type": "code",
      "source": [
        "text = \"\"\"\n",
        "Update Rails security guide by removing SafeErb suggestion.\n",
        "On the [security](http://guides.rubyonrails.org/security.html) section of the Rails guide, it can be read:\\r\\n\\r\\n\"_However, it can easily happen that the programmer forgets to use it, so _it is recommended to use the SafeErb gem. SafeErb reminds you to escape strings from external sources._\"\\r\\n\\r\\nThe repository of the gem [SafeErb](https://github.com/abedra/safe-erb) doesn\\'t show activity since 2012. I think that is a good idea to remove the part where the recommendation to use this gem is mentioned.\\r\\n\\r\\nAlso one of the authors of the gem [recommend not to use it](https://github.com/abedra/safe-erb/issues/1).\\r\\n\n",
        "\"\"\""
      ],
      "metadata": {
        "id": "5rEuOdNQj3En"
      },
      "execution_count": 33,
      "outputs": []
    },
    {
      "cell_type": "code",
      "source": [
        "text_clean = clean_text(text,stopwords=True).lower()"
      ],
      "metadata": {
        "id": "nxYMohFLj5Tv"
      },
      "execution_count": 34,
      "outputs": []
    },
    {
      "cell_type": "code",
      "source": [
        "text_clean"
      ],
      "metadata": {
        "colab": {
          "base_uri": "https://localhost:8080/",
          "height": 70
        },
        "id": "pzj4WUDmj_Tn",
        "outputId": "acd47b24-1e47-43bf-937d-756866590372"
      },
      "execution_count": 35,
      "outputs": [
        {
          "output_type": "execute_result",
          "data": {
            "text/plain": [
              "'update rails security guide removing safeerb suggestion. [security](http://guides.rubyonrails.org/security.html) section rails guide, read: \"_however, easily happen programmer forgets use it, _it recommended use safeerb gem. safeerb reminds escape strings external sources._\" repository gem [safeerb](https://github.com/abedra/safe-erb) activity 2012. think good idea remove recommendation use gem mentioned. authors gem [recommend use it](https://github.com/abedra/safe-erb/issues/1).'"
            ],
            "application/vnd.google.colaboratory.intrinsic+json": {
              "type": "string"
            }
          },
          "metadata": {},
          "execution_count": 35
        }
      ]
    },
    {
      "cell_type": "code",
      "execution_count": 36,
      "metadata": {
        "id": "Sm3zsUsZAP8T"
      },
      "outputs": [],
      "source": [
        "encoding = tokenizer(text_clean, return_tensors='pt')\n",
        "encoding.to(trainer.model.device)\n",
        "\n",
        "outputs = trainer.model(**encoding)"
      ]
    },
    {
      "cell_type": "code",
      "execution_count": 37,
      "metadata": {
        "colab": {
          "base_uri": "https://localhost:8080/"
        },
        "id": "tj9jdpaGAP5u",
        "outputId": "093b3fa8-5f5f-484d-e13a-f14894c334d8"
      },
      "outputs": [
        {
          "output_type": "execute_result",
          "data": {
            "text/plain": [
              "[('activerecord',)]"
            ]
          },
          "metadata": {},
          "execution_count": 37
        }
      ],
      "source": [
        "sigmoid = torch.nn.Sigmoid()\n",
        "probs = sigmoid(outputs.logits[0].cpu())\n",
        "preds = np.zeros(probs.shape)\n",
        "preds[np.where(probs>=0.3)] = 1\n",
        "\n",
        "multilabel.classes_\n",
        "\n",
        "multilabel.inverse_transform(preds.reshape(1,-1))"
      ]
    },
    {
      "cell_type": "code",
      "execution_count": null,
      "metadata": {
        "colab": {
          "base_uri": "https://localhost:8080/"
        },
        "id": "QB4NTVpWAP1k",
        "outputId": "dc142f71-e2be-451b-f3b9-35c4965118a4"
      },
      "outputs": [
        {
          "output_type": "execute_result",
          "data": {
            "text/plain": [
              "array([[0., 0., 0., 0., 0., 0., 0., 0., 0., 0., 0., 0., 0., 0., 0., 0.,\n",
              "        0., 0., 0., 0., 0., 0., 0., 0., 0., 0., 0., 0., 0., 0., 0., 0.,\n",
              "        0., 0., 0., 0., 0., 1., 0., 0., 0., 0., 0., 0., 0., 0., 0., 0.,\n",
              "        0.]])"
            ]
          },
          "metadata": {},
          "execution_count": 24
        }
      ],
      "source": [
        "preds.reshape(1,-1)"
      ]
    }
  ],
  "metadata": {
    "accelerator": "GPU",
    "colab": {
      "gpuType": "T4",
      "provenance": []
    },
    "kernelspec": {
      "display_name": "Python 3",
      "name": "python3"
    },
    "language_info": {
      "codemirror_mode": {
        "name": "ipython",
        "version": 3
      },
      "file_extension": ".py",
      "mimetype": "text/x-python",
      "name": "python",
      "nbconvert_exporter": "python",
      "pygments_lexer": "ipython3",
      "version": "3.9.13"
    },
    "widgets": {
      "application/vnd.jupyter.widget-state+json": {
        "5f4f785b84584b178be353c594d38d0d": {
          "model_module": "@jupyter-widgets/controls",
          "model_name": "HBoxModel",
          "model_module_version": "1.5.0",
          "state": {
            "_dom_classes": [],
            "_model_module": "@jupyter-widgets/controls",
            "_model_module_version": "1.5.0",
            "_model_name": "HBoxModel",
            "_view_count": null,
            "_view_module": "@jupyter-widgets/controls",
            "_view_module_version": "1.5.0",
            "_view_name": "HBoxView",
            "box_style": "",
            "children": [
              "IPY_MODEL_f6447dbe35004e1c86172a07155ab024",
              "IPY_MODEL_ae083f59108841eabe9b365fb8842968",
              "IPY_MODEL_9efb53b56c2e4034847265265662bd55"
            ],
            "layout": "IPY_MODEL_26f53a16930143a1a085a3119cb73830"
          }
        },
        "f6447dbe35004e1c86172a07155ab024": {
          "model_module": "@jupyter-widgets/controls",
          "model_name": "HTMLModel",
          "model_module_version": "1.5.0",
          "state": {
            "_dom_classes": [],
            "_model_module": "@jupyter-widgets/controls",
            "_model_module_version": "1.5.0",
            "_model_name": "HTMLModel",
            "_view_count": null,
            "_view_module": "@jupyter-widgets/controls",
            "_view_module_version": "1.5.0",
            "_view_name": "HTMLView",
            "description": "",
            "description_tooltip": null,
            "layout": "IPY_MODEL_9da42902c6fc4133aaaff304519b121b",
            "placeholder": "​",
            "style": "IPY_MODEL_641a241ca9134beb8279f979627d0295",
            "value": "tokenizer_config.json: 100%"
          }
        },
        "ae083f59108841eabe9b365fb8842968": {
          "model_module": "@jupyter-widgets/controls",
          "model_name": "FloatProgressModel",
          "model_module_version": "1.5.0",
          "state": {
            "_dom_classes": [],
            "_model_module": "@jupyter-widgets/controls",
            "_model_module_version": "1.5.0",
            "_model_name": "FloatProgressModel",
            "_view_count": null,
            "_view_module": "@jupyter-widgets/controls",
            "_view_module_version": "1.5.0",
            "_view_name": "ProgressView",
            "bar_style": "success",
            "description": "",
            "description_tooltip": null,
            "layout": "IPY_MODEL_4d898c9fcb2f4a92b2423e3650ce7850",
            "max": 28,
            "min": 0,
            "orientation": "horizontal",
            "style": "IPY_MODEL_6db4f54cf87d481584e885d066079695",
            "value": 28
          }
        },
        "9efb53b56c2e4034847265265662bd55": {
          "model_module": "@jupyter-widgets/controls",
          "model_name": "HTMLModel",
          "model_module_version": "1.5.0",
          "state": {
            "_dom_classes": [],
            "_model_module": "@jupyter-widgets/controls",
            "_model_module_version": "1.5.0",
            "_model_name": "HTMLModel",
            "_view_count": null,
            "_view_module": "@jupyter-widgets/controls",
            "_view_module_version": "1.5.0",
            "_view_name": "HTMLView",
            "description": "",
            "description_tooltip": null,
            "layout": "IPY_MODEL_4142b70ffc9e4f579498eb2d9933b06d",
            "placeholder": "​",
            "style": "IPY_MODEL_2f38a37a9e4744c0ae58dd2add1090ed",
            "value": " 28.0/28.0 [00:00&lt;00:00, 355B/s]"
          }
        },
        "26f53a16930143a1a085a3119cb73830": {
          "model_module": "@jupyter-widgets/base",
          "model_name": "LayoutModel",
          "model_module_version": "1.2.0",
          "state": {
            "_model_module": "@jupyter-widgets/base",
            "_model_module_version": "1.2.0",
            "_model_name": "LayoutModel",
            "_view_count": null,
            "_view_module": "@jupyter-widgets/base",
            "_view_module_version": "1.2.0",
            "_view_name": "LayoutView",
            "align_content": null,
            "align_items": null,
            "align_self": null,
            "border": null,
            "bottom": null,
            "display": null,
            "flex": null,
            "flex_flow": null,
            "grid_area": null,
            "grid_auto_columns": null,
            "grid_auto_flow": null,
            "grid_auto_rows": null,
            "grid_column": null,
            "grid_gap": null,
            "grid_row": null,
            "grid_template_areas": null,
            "grid_template_columns": null,
            "grid_template_rows": null,
            "height": null,
            "justify_content": null,
            "justify_items": null,
            "left": null,
            "margin": null,
            "max_height": null,
            "max_width": null,
            "min_height": null,
            "min_width": null,
            "object_fit": null,
            "object_position": null,
            "order": null,
            "overflow": null,
            "overflow_x": null,
            "overflow_y": null,
            "padding": null,
            "right": null,
            "top": null,
            "visibility": null,
            "width": null
          }
        },
        "9da42902c6fc4133aaaff304519b121b": {
          "model_module": "@jupyter-widgets/base",
          "model_name": "LayoutModel",
          "model_module_version": "1.2.0",
          "state": {
            "_model_module": "@jupyter-widgets/base",
            "_model_module_version": "1.2.0",
            "_model_name": "LayoutModel",
            "_view_count": null,
            "_view_module": "@jupyter-widgets/base",
            "_view_module_version": "1.2.0",
            "_view_name": "LayoutView",
            "align_content": null,
            "align_items": null,
            "align_self": null,
            "border": null,
            "bottom": null,
            "display": null,
            "flex": null,
            "flex_flow": null,
            "grid_area": null,
            "grid_auto_columns": null,
            "grid_auto_flow": null,
            "grid_auto_rows": null,
            "grid_column": null,
            "grid_gap": null,
            "grid_row": null,
            "grid_template_areas": null,
            "grid_template_columns": null,
            "grid_template_rows": null,
            "height": null,
            "justify_content": null,
            "justify_items": null,
            "left": null,
            "margin": null,
            "max_height": null,
            "max_width": null,
            "min_height": null,
            "min_width": null,
            "object_fit": null,
            "object_position": null,
            "order": null,
            "overflow": null,
            "overflow_x": null,
            "overflow_y": null,
            "padding": null,
            "right": null,
            "top": null,
            "visibility": null,
            "width": null
          }
        },
        "641a241ca9134beb8279f979627d0295": {
          "model_module": "@jupyter-widgets/controls",
          "model_name": "DescriptionStyleModel",
          "model_module_version": "1.5.0",
          "state": {
            "_model_module": "@jupyter-widgets/controls",
            "_model_module_version": "1.5.0",
            "_model_name": "DescriptionStyleModel",
            "_view_count": null,
            "_view_module": "@jupyter-widgets/base",
            "_view_module_version": "1.2.0",
            "_view_name": "StyleView",
            "description_width": ""
          }
        },
        "4d898c9fcb2f4a92b2423e3650ce7850": {
          "model_module": "@jupyter-widgets/base",
          "model_name": "LayoutModel",
          "model_module_version": "1.2.0",
          "state": {
            "_model_module": "@jupyter-widgets/base",
            "_model_module_version": "1.2.0",
            "_model_name": "LayoutModel",
            "_view_count": null,
            "_view_module": "@jupyter-widgets/base",
            "_view_module_version": "1.2.0",
            "_view_name": "LayoutView",
            "align_content": null,
            "align_items": null,
            "align_self": null,
            "border": null,
            "bottom": null,
            "display": null,
            "flex": null,
            "flex_flow": null,
            "grid_area": null,
            "grid_auto_columns": null,
            "grid_auto_flow": null,
            "grid_auto_rows": null,
            "grid_column": null,
            "grid_gap": null,
            "grid_row": null,
            "grid_template_areas": null,
            "grid_template_columns": null,
            "grid_template_rows": null,
            "height": null,
            "justify_content": null,
            "justify_items": null,
            "left": null,
            "margin": null,
            "max_height": null,
            "max_width": null,
            "min_height": null,
            "min_width": null,
            "object_fit": null,
            "object_position": null,
            "order": null,
            "overflow": null,
            "overflow_x": null,
            "overflow_y": null,
            "padding": null,
            "right": null,
            "top": null,
            "visibility": null,
            "width": null
          }
        },
        "6db4f54cf87d481584e885d066079695": {
          "model_module": "@jupyter-widgets/controls",
          "model_name": "ProgressStyleModel",
          "model_module_version": "1.5.0",
          "state": {
            "_model_module": "@jupyter-widgets/controls",
            "_model_module_version": "1.5.0",
            "_model_name": "ProgressStyleModel",
            "_view_count": null,
            "_view_module": "@jupyter-widgets/base",
            "_view_module_version": "1.2.0",
            "_view_name": "StyleView",
            "bar_color": null,
            "description_width": ""
          }
        },
        "4142b70ffc9e4f579498eb2d9933b06d": {
          "model_module": "@jupyter-widgets/base",
          "model_name": "LayoutModel",
          "model_module_version": "1.2.0",
          "state": {
            "_model_module": "@jupyter-widgets/base",
            "_model_module_version": "1.2.0",
            "_model_name": "LayoutModel",
            "_view_count": null,
            "_view_module": "@jupyter-widgets/base",
            "_view_module_version": "1.2.0",
            "_view_name": "LayoutView",
            "align_content": null,
            "align_items": null,
            "align_self": null,
            "border": null,
            "bottom": null,
            "display": null,
            "flex": null,
            "flex_flow": null,
            "grid_area": null,
            "grid_auto_columns": null,
            "grid_auto_flow": null,
            "grid_auto_rows": null,
            "grid_column": null,
            "grid_gap": null,
            "grid_row": null,
            "grid_template_areas": null,
            "grid_template_columns": null,
            "grid_template_rows": null,
            "height": null,
            "justify_content": null,
            "justify_items": null,
            "left": null,
            "margin": null,
            "max_height": null,
            "max_width": null,
            "min_height": null,
            "min_width": null,
            "object_fit": null,
            "object_position": null,
            "order": null,
            "overflow": null,
            "overflow_x": null,
            "overflow_y": null,
            "padding": null,
            "right": null,
            "top": null,
            "visibility": null,
            "width": null
          }
        },
        "2f38a37a9e4744c0ae58dd2add1090ed": {
          "model_module": "@jupyter-widgets/controls",
          "model_name": "DescriptionStyleModel",
          "model_module_version": "1.5.0",
          "state": {
            "_model_module": "@jupyter-widgets/controls",
            "_model_module_version": "1.5.0",
            "_model_name": "DescriptionStyleModel",
            "_view_count": null,
            "_view_module": "@jupyter-widgets/base",
            "_view_module_version": "1.2.0",
            "_view_name": "StyleView",
            "description_width": ""
          }
        },
        "83a1638ab47c460b8324d220cee34b48": {
          "model_module": "@jupyter-widgets/controls",
          "model_name": "HBoxModel",
          "model_module_version": "1.5.0",
          "state": {
            "_dom_classes": [],
            "_model_module": "@jupyter-widgets/controls",
            "_model_module_version": "1.5.0",
            "_model_name": "HBoxModel",
            "_view_count": null,
            "_view_module": "@jupyter-widgets/controls",
            "_view_module_version": "1.5.0",
            "_view_name": "HBoxView",
            "box_style": "",
            "children": [
              "IPY_MODEL_df66c475ff2748dc9106dc780758d0e9",
              "IPY_MODEL_bf40cd0324e1454cabc4af21ac790f27",
              "IPY_MODEL_554f8b7063584b2493922a5791b29b33"
            ],
            "layout": "IPY_MODEL_cbd075cf980a48b4b6285af52a83e565"
          }
        },
        "df66c475ff2748dc9106dc780758d0e9": {
          "model_module": "@jupyter-widgets/controls",
          "model_name": "HTMLModel",
          "model_module_version": "1.5.0",
          "state": {
            "_dom_classes": [],
            "_model_module": "@jupyter-widgets/controls",
            "_model_module_version": "1.5.0",
            "_model_name": "HTMLModel",
            "_view_count": null,
            "_view_module": "@jupyter-widgets/controls",
            "_view_module_version": "1.5.0",
            "_view_name": "HTMLView",
            "description": "",
            "description_tooltip": null,
            "layout": "IPY_MODEL_c6b5c73e55034d2683ee35e9d3859ead",
            "placeholder": "​",
            "style": "IPY_MODEL_fe94daece8b8489597fc8a9c4e26eb43",
            "value": "vocab.txt: 100%"
          }
        },
        "bf40cd0324e1454cabc4af21ac790f27": {
          "model_module": "@jupyter-widgets/controls",
          "model_name": "FloatProgressModel",
          "model_module_version": "1.5.0",
          "state": {
            "_dom_classes": [],
            "_model_module": "@jupyter-widgets/controls",
            "_model_module_version": "1.5.0",
            "_model_name": "FloatProgressModel",
            "_view_count": null,
            "_view_module": "@jupyter-widgets/controls",
            "_view_module_version": "1.5.0",
            "_view_name": "ProgressView",
            "bar_style": "success",
            "description": "",
            "description_tooltip": null,
            "layout": "IPY_MODEL_07de52907db64ce79abb7032740a47a3",
            "max": 231508,
            "min": 0,
            "orientation": "horizontal",
            "style": "IPY_MODEL_a2e7bb8fcfc44d4aa3495584e9afde19",
            "value": 231508
          }
        },
        "554f8b7063584b2493922a5791b29b33": {
          "model_module": "@jupyter-widgets/controls",
          "model_name": "HTMLModel",
          "model_module_version": "1.5.0",
          "state": {
            "_dom_classes": [],
            "_model_module": "@jupyter-widgets/controls",
            "_model_module_version": "1.5.0",
            "_model_name": "HTMLModel",
            "_view_count": null,
            "_view_module": "@jupyter-widgets/controls",
            "_view_module_version": "1.5.0",
            "_view_name": "HTMLView",
            "description": "",
            "description_tooltip": null,
            "layout": "IPY_MODEL_f4cb188849434ab58c59e2abd13d7241",
            "placeholder": "​",
            "style": "IPY_MODEL_b317ca16750543e4af8d2ebf02719a06",
            "value": " 232k/232k [00:00&lt;00:00, 1.86MB/s]"
          }
        },
        "cbd075cf980a48b4b6285af52a83e565": {
          "model_module": "@jupyter-widgets/base",
          "model_name": "LayoutModel",
          "model_module_version": "1.2.0",
          "state": {
            "_model_module": "@jupyter-widgets/base",
            "_model_module_version": "1.2.0",
            "_model_name": "LayoutModel",
            "_view_count": null,
            "_view_module": "@jupyter-widgets/base",
            "_view_module_version": "1.2.0",
            "_view_name": "LayoutView",
            "align_content": null,
            "align_items": null,
            "align_self": null,
            "border": null,
            "bottom": null,
            "display": null,
            "flex": null,
            "flex_flow": null,
            "grid_area": null,
            "grid_auto_columns": null,
            "grid_auto_flow": null,
            "grid_auto_rows": null,
            "grid_column": null,
            "grid_gap": null,
            "grid_row": null,
            "grid_template_areas": null,
            "grid_template_columns": null,
            "grid_template_rows": null,
            "height": null,
            "justify_content": null,
            "justify_items": null,
            "left": null,
            "margin": null,
            "max_height": null,
            "max_width": null,
            "min_height": null,
            "min_width": null,
            "object_fit": null,
            "object_position": null,
            "order": null,
            "overflow": null,
            "overflow_x": null,
            "overflow_y": null,
            "padding": null,
            "right": null,
            "top": null,
            "visibility": null,
            "width": null
          }
        },
        "c6b5c73e55034d2683ee35e9d3859ead": {
          "model_module": "@jupyter-widgets/base",
          "model_name": "LayoutModel",
          "model_module_version": "1.2.0",
          "state": {
            "_model_module": "@jupyter-widgets/base",
            "_model_module_version": "1.2.0",
            "_model_name": "LayoutModel",
            "_view_count": null,
            "_view_module": "@jupyter-widgets/base",
            "_view_module_version": "1.2.0",
            "_view_name": "LayoutView",
            "align_content": null,
            "align_items": null,
            "align_self": null,
            "border": null,
            "bottom": null,
            "display": null,
            "flex": null,
            "flex_flow": null,
            "grid_area": null,
            "grid_auto_columns": null,
            "grid_auto_flow": null,
            "grid_auto_rows": null,
            "grid_column": null,
            "grid_gap": null,
            "grid_row": null,
            "grid_template_areas": null,
            "grid_template_columns": null,
            "grid_template_rows": null,
            "height": null,
            "justify_content": null,
            "justify_items": null,
            "left": null,
            "margin": null,
            "max_height": null,
            "max_width": null,
            "min_height": null,
            "min_width": null,
            "object_fit": null,
            "object_position": null,
            "order": null,
            "overflow": null,
            "overflow_x": null,
            "overflow_y": null,
            "padding": null,
            "right": null,
            "top": null,
            "visibility": null,
            "width": null
          }
        },
        "fe94daece8b8489597fc8a9c4e26eb43": {
          "model_module": "@jupyter-widgets/controls",
          "model_name": "DescriptionStyleModel",
          "model_module_version": "1.5.0",
          "state": {
            "_model_module": "@jupyter-widgets/controls",
            "_model_module_version": "1.5.0",
            "_model_name": "DescriptionStyleModel",
            "_view_count": null,
            "_view_module": "@jupyter-widgets/base",
            "_view_module_version": "1.2.0",
            "_view_name": "StyleView",
            "description_width": ""
          }
        },
        "07de52907db64ce79abb7032740a47a3": {
          "model_module": "@jupyter-widgets/base",
          "model_name": "LayoutModel",
          "model_module_version": "1.2.0",
          "state": {
            "_model_module": "@jupyter-widgets/base",
            "_model_module_version": "1.2.0",
            "_model_name": "LayoutModel",
            "_view_count": null,
            "_view_module": "@jupyter-widgets/base",
            "_view_module_version": "1.2.0",
            "_view_name": "LayoutView",
            "align_content": null,
            "align_items": null,
            "align_self": null,
            "border": null,
            "bottom": null,
            "display": null,
            "flex": null,
            "flex_flow": null,
            "grid_area": null,
            "grid_auto_columns": null,
            "grid_auto_flow": null,
            "grid_auto_rows": null,
            "grid_column": null,
            "grid_gap": null,
            "grid_row": null,
            "grid_template_areas": null,
            "grid_template_columns": null,
            "grid_template_rows": null,
            "height": null,
            "justify_content": null,
            "justify_items": null,
            "left": null,
            "margin": null,
            "max_height": null,
            "max_width": null,
            "min_height": null,
            "min_width": null,
            "object_fit": null,
            "object_position": null,
            "order": null,
            "overflow": null,
            "overflow_x": null,
            "overflow_y": null,
            "padding": null,
            "right": null,
            "top": null,
            "visibility": null,
            "width": null
          }
        },
        "a2e7bb8fcfc44d4aa3495584e9afde19": {
          "model_module": "@jupyter-widgets/controls",
          "model_name": "ProgressStyleModel",
          "model_module_version": "1.5.0",
          "state": {
            "_model_module": "@jupyter-widgets/controls",
            "_model_module_version": "1.5.0",
            "_model_name": "ProgressStyleModel",
            "_view_count": null,
            "_view_module": "@jupyter-widgets/base",
            "_view_module_version": "1.2.0",
            "_view_name": "StyleView",
            "bar_color": null,
            "description_width": ""
          }
        },
        "f4cb188849434ab58c59e2abd13d7241": {
          "model_module": "@jupyter-widgets/base",
          "model_name": "LayoutModel",
          "model_module_version": "1.2.0",
          "state": {
            "_model_module": "@jupyter-widgets/base",
            "_model_module_version": "1.2.0",
            "_model_name": "LayoutModel",
            "_view_count": null,
            "_view_module": "@jupyter-widgets/base",
            "_view_module_version": "1.2.0",
            "_view_name": "LayoutView",
            "align_content": null,
            "align_items": null,
            "align_self": null,
            "border": null,
            "bottom": null,
            "display": null,
            "flex": null,
            "flex_flow": null,
            "grid_area": null,
            "grid_auto_columns": null,
            "grid_auto_flow": null,
            "grid_auto_rows": null,
            "grid_column": null,
            "grid_gap": null,
            "grid_row": null,
            "grid_template_areas": null,
            "grid_template_columns": null,
            "grid_template_rows": null,
            "height": null,
            "justify_content": null,
            "justify_items": null,
            "left": null,
            "margin": null,
            "max_height": null,
            "max_width": null,
            "min_height": null,
            "min_width": null,
            "object_fit": null,
            "object_position": null,
            "order": null,
            "overflow": null,
            "overflow_x": null,
            "overflow_y": null,
            "padding": null,
            "right": null,
            "top": null,
            "visibility": null,
            "width": null
          }
        },
        "b317ca16750543e4af8d2ebf02719a06": {
          "model_module": "@jupyter-widgets/controls",
          "model_name": "DescriptionStyleModel",
          "model_module_version": "1.5.0",
          "state": {
            "_model_module": "@jupyter-widgets/controls",
            "_model_module_version": "1.5.0",
            "_model_name": "DescriptionStyleModel",
            "_view_count": null,
            "_view_module": "@jupyter-widgets/base",
            "_view_module_version": "1.2.0",
            "_view_name": "StyleView",
            "description_width": ""
          }
        },
        "9fc72146628d4511aab17fda78e56742": {
          "model_module": "@jupyter-widgets/controls",
          "model_name": "HBoxModel",
          "model_module_version": "1.5.0",
          "state": {
            "_dom_classes": [],
            "_model_module": "@jupyter-widgets/controls",
            "_model_module_version": "1.5.0",
            "_model_name": "HBoxModel",
            "_view_count": null,
            "_view_module": "@jupyter-widgets/controls",
            "_view_module_version": "1.5.0",
            "_view_name": "HBoxView",
            "box_style": "",
            "children": [
              "IPY_MODEL_373ff29370bf4316b0377f9ae593c1bb",
              "IPY_MODEL_2f05ece7f3c34ec7a02ce1dd74baf19a",
              "IPY_MODEL_1f048a3c6e9944148a8d4028e05b2c52"
            ],
            "layout": "IPY_MODEL_02841c1924824121a7c6f72cc1336659"
          }
        },
        "373ff29370bf4316b0377f9ae593c1bb": {
          "model_module": "@jupyter-widgets/controls",
          "model_name": "HTMLModel",
          "model_module_version": "1.5.0",
          "state": {
            "_dom_classes": [],
            "_model_module": "@jupyter-widgets/controls",
            "_model_module_version": "1.5.0",
            "_model_name": "HTMLModel",
            "_view_count": null,
            "_view_module": "@jupyter-widgets/controls",
            "_view_module_version": "1.5.0",
            "_view_name": "HTMLView",
            "description": "",
            "description_tooltip": null,
            "layout": "IPY_MODEL_470b943ee5fd4a0687ffed47e2f6f92c",
            "placeholder": "​",
            "style": "IPY_MODEL_68bc8dc302714355b4a6732a49b2c299",
            "value": "tokenizer.json: 100%"
          }
        },
        "2f05ece7f3c34ec7a02ce1dd74baf19a": {
          "model_module": "@jupyter-widgets/controls",
          "model_name": "FloatProgressModel",
          "model_module_version": "1.5.0",
          "state": {
            "_dom_classes": [],
            "_model_module": "@jupyter-widgets/controls",
            "_model_module_version": "1.5.0",
            "_model_name": "FloatProgressModel",
            "_view_count": null,
            "_view_module": "@jupyter-widgets/controls",
            "_view_module_version": "1.5.0",
            "_view_name": "ProgressView",
            "bar_style": "success",
            "description": "",
            "description_tooltip": null,
            "layout": "IPY_MODEL_a6761c10004b4cc0aaaba38ccefd6a5f",
            "max": 466062,
            "min": 0,
            "orientation": "horizontal",
            "style": "IPY_MODEL_8ae8bb6dd13f4d68ab5a09e28c08fe54",
            "value": 466062
          }
        },
        "1f048a3c6e9944148a8d4028e05b2c52": {
          "model_module": "@jupyter-widgets/controls",
          "model_name": "HTMLModel",
          "model_module_version": "1.5.0",
          "state": {
            "_dom_classes": [],
            "_model_module": "@jupyter-widgets/controls",
            "_model_module_version": "1.5.0",
            "_model_name": "HTMLModel",
            "_view_count": null,
            "_view_module": "@jupyter-widgets/controls",
            "_view_module_version": "1.5.0",
            "_view_name": "HTMLView",
            "description": "",
            "description_tooltip": null,
            "layout": "IPY_MODEL_e3a4063c5c004ab09d122ca4eb36ab33",
            "placeholder": "​",
            "style": "IPY_MODEL_f82be000113a47fbaaad7a2cbd79c0f4",
            "value": " 466k/466k [00:00&lt;00:00, 6.25MB/s]"
          }
        },
        "02841c1924824121a7c6f72cc1336659": {
          "model_module": "@jupyter-widgets/base",
          "model_name": "LayoutModel",
          "model_module_version": "1.2.0",
          "state": {
            "_model_module": "@jupyter-widgets/base",
            "_model_module_version": "1.2.0",
            "_model_name": "LayoutModel",
            "_view_count": null,
            "_view_module": "@jupyter-widgets/base",
            "_view_module_version": "1.2.0",
            "_view_name": "LayoutView",
            "align_content": null,
            "align_items": null,
            "align_self": null,
            "border": null,
            "bottom": null,
            "display": null,
            "flex": null,
            "flex_flow": null,
            "grid_area": null,
            "grid_auto_columns": null,
            "grid_auto_flow": null,
            "grid_auto_rows": null,
            "grid_column": null,
            "grid_gap": null,
            "grid_row": null,
            "grid_template_areas": null,
            "grid_template_columns": null,
            "grid_template_rows": null,
            "height": null,
            "justify_content": null,
            "justify_items": null,
            "left": null,
            "margin": null,
            "max_height": null,
            "max_width": null,
            "min_height": null,
            "min_width": null,
            "object_fit": null,
            "object_position": null,
            "order": null,
            "overflow": null,
            "overflow_x": null,
            "overflow_y": null,
            "padding": null,
            "right": null,
            "top": null,
            "visibility": null,
            "width": null
          }
        },
        "470b943ee5fd4a0687ffed47e2f6f92c": {
          "model_module": "@jupyter-widgets/base",
          "model_name": "LayoutModel",
          "model_module_version": "1.2.0",
          "state": {
            "_model_module": "@jupyter-widgets/base",
            "_model_module_version": "1.2.0",
            "_model_name": "LayoutModel",
            "_view_count": null,
            "_view_module": "@jupyter-widgets/base",
            "_view_module_version": "1.2.0",
            "_view_name": "LayoutView",
            "align_content": null,
            "align_items": null,
            "align_self": null,
            "border": null,
            "bottom": null,
            "display": null,
            "flex": null,
            "flex_flow": null,
            "grid_area": null,
            "grid_auto_columns": null,
            "grid_auto_flow": null,
            "grid_auto_rows": null,
            "grid_column": null,
            "grid_gap": null,
            "grid_row": null,
            "grid_template_areas": null,
            "grid_template_columns": null,
            "grid_template_rows": null,
            "height": null,
            "justify_content": null,
            "justify_items": null,
            "left": null,
            "margin": null,
            "max_height": null,
            "max_width": null,
            "min_height": null,
            "min_width": null,
            "object_fit": null,
            "object_position": null,
            "order": null,
            "overflow": null,
            "overflow_x": null,
            "overflow_y": null,
            "padding": null,
            "right": null,
            "top": null,
            "visibility": null,
            "width": null
          }
        },
        "68bc8dc302714355b4a6732a49b2c299": {
          "model_module": "@jupyter-widgets/controls",
          "model_name": "DescriptionStyleModel",
          "model_module_version": "1.5.0",
          "state": {
            "_model_module": "@jupyter-widgets/controls",
            "_model_module_version": "1.5.0",
            "_model_name": "DescriptionStyleModel",
            "_view_count": null,
            "_view_module": "@jupyter-widgets/base",
            "_view_module_version": "1.2.0",
            "_view_name": "StyleView",
            "description_width": ""
          }
        },
        "a6761c10004b4cc0aaaba38ccefd6a5f": {
          "model_module": "@jupyter-widgets/base",
          "model_name": "LayoutModel",
          "model_module_version": "1.2.0",
          "state": {
            "_model_module": "@jupyter-widgets/base",
            "_model_module_version": "1.2.0",
            "_model_name": "LayoutModel",
            "_view_count": null,
            "_view_module": "@jupyter-widgets/base",
            "_view_module_version": "1.2.0",
            "_view_name": "LayoutView",
            "align_content": null,
            "align_items": null,
            "align_self": null,
            "border": null,
            "bottom": null,
            "display": null,
            "flex": null,
            "flex_flow": null,
            "grid_area": null,
            "grid_auto_columns": null,
            "grid_auto_flow": null,
            "grid_auto_rows": null,
            "grid_column": null,
            "grid_gap": null,
            "grid_row": null,
            "grid_template_areas": null,
            "grid_template_columns": null,
            "grid_template_rows": null,
            "height": null,
            "justify_content": null,
            "justify_items": null,
            "left": null,
            "margin": null,
            "max_height": null,
            "max_width": null,
            "min_height": null,
            "min_width": null,
            "object_fit": null,
            "object_position": null,
            "order": null,
            "overflow": null,
            "overflow_x": null,
            "overflow_y": null,
            "padding": null,
            "right": null,
            "top": null,
            "visibility": null,
            "width": null
          }
        },
        "8ae8bb6dd13f4d68ab5a09e28c08fe54": {
          "model_module": "@jupyter-widgets/controls",
          "model_name": "ProgressStyleModel",
          "model_module_version": "1.5.0",
          "state": {
            "_model_module": "@jupyter-widgets/controls",
            "_model_module_version": "1.5.0",
            "_model_name": "ProgressStyleModel",
            "_view_count": null,
            "_view_module": "@jupyter-widgets/base",
            "_view_module_version": "1.2.0",
            "_view_name": "StyleView",
            "bar_color": null,
            "description_width": ""
          }
        },
        "e3a4063c5c004ab09d122ca4eb36ab33": {
          "model_module": "@jupyter-widgets/base",
          "model_name": "LayoutModel",
          "model_module_version": "1.2.0",
          "state": {
            "_model_module": "@jupyter-widgets/base",
            "_model_module_version": "1.2.0",
            "_model_name": "LayoutModel",
            "_view_count": null,
            "_view_module": "@jupyter-widgets/base",
            "_view_module_version": "1.2.0",
            "_view_name": "LayoutView",
            "align_content": null,
            "align_items": null,
            "align_self": null,
            "border": null,
            "bottom": null,
            "display": null,
            "flex": null,
            "flex_flow": null,
            "grid_area": null,
            "grid_auto_columns": null,
            "grid_auto_flow": null,
            "grid_auto_rows": null,
            "grid_column": null,
            "grid_gap": null,
            "grid_row": null,
            "grid_template_areas": null,
            "grid_template_columns": null,
            "grid_template_rows": null,
            "height": null,
            "justify_content": null,
            "justify_items": null,
            "left": null,
            "margin": null,
            "max_height": null,
            "max_width": null,
            "min_height": null,
            "min_width": null,
            "object_fit": null,
            "object_position": null,
            "order": null,
            "overflow": null,
            "overflow_x": null,
            "overflow_y": null,
            "padding": null,
            "right": null,
            "top": null,
            "visibility": null,
            "width": null
          }
        },
        "f82be000113a47fbaaad7a2cbd79c0f4": {
          "model_module": "@jupyter-widgets/controls",
          "model_name": "DescriptionStyleModel",
          "model_module_version": "1.5.0",
          "state": {
            "_model_module": "@jupyter-widgets/controls",
            "_model_module_version": "1.5.0",
            "_model_name": "DescriptionStyleModel",
            "_view_count": null,
            "_view_module": "@jupyter-widgets/base",
            "_view_module_version": "1.2.0",
            "_view_name": "StyleView",
            "description_width": ""
          }
        },
        "e75863a8fdfb4990993eb23e6b4ab88c": {
          "model_module": "@jupyter-widgets/controls",
          "model_name": "HBoxModel",
          "model_module_version": "1.5.0",
          "state": {
            "_dom_classes": [],
            "_model_module": "@jupyter-widgets/controls",
            "_model_module_version": "1.5.0",
            "_model_name": "HBoxModel",
            "_view_count": null,
            "_view_module": "@jupyter-widgets/controls",
            "_view_module_version": "1.5.0",
            "_view_name": "HBoxView",
            "box_style": "",
            "children": [
              "IPY_MODEL_cb80ba15a6e04581a56b3c62da370f4b",
              "IPY_MODEL_dfe98eb36ea343fd9af4b207c48126df",
              "IPY_MODEL_d470e6dc35b74b9c94e66e5118b93841"
            ],
            "layout": "IPY_MODEL_d525205087274ddeb41fb98f9dcec5ba"
          }
        },
        "cb80ba15a6e04581a56b3c62da370f4b": {
          "model_module": "@jupyter-widgets/controls",
          "model_name": "HTMLModel",
          "model_module_version": "1.5.0",
          "state": {
            "_dom_classes": [],
            "_model_module": "@jupyter-widgets/controls",
            "_model_module_version": "1.5.0",
            "_model_name": "HTMLModel",
            "_view_count": null,
            "_view_module": "@jupyter-widgets/controls",
            "_view_module_version": "1.5.0",
            "_view_name": "HTMLView",
            "description": "",
            "description_tooltip": null,
            "layout": "IPY_MODEL_597134645d5e4a20b9e1d79efae0f117",
            "placeholder": "​",
            "style": "IPY_MODEL_0447fdcc4e44415aa14dc657f0eb9361",
            "value": "config.json: 100%"
          }
        },
        "dfe98eb36ea343fd9af4b207c48126df": {
          "model_module": "@jupyter-widgets/controls",
          "model_name": "FloatProgressModel",
          "model_module_version": "1.5.0",
          "state": {
            "_dom_classes": [],
            "_model_module": "@jupyter-widgets/controls",
            "_model_module_version": "1.5.0",
            "_model_name": "FloatProgressModel",
            "_view_count": null,
            "_view_module": "@jupyter-widgets/controls",
            "_view_module_version": "1.5.0",
            "_view_name": "ProgressView",
            "bar_style": "success",
            "description": "",
            "description_tooltip": null,
            "layout": "IPY_MODEL_4e617538c93c44dbb1674d6bd04f4343",
            "max": 483,
            "min": 0,
            "orientation": "horizontal",
            "style": "IPY_MODEL_0d75647a18cc41a9b04b4d8e21c70b11",
            "value": 483
          }
        },
        "d470e6dc35b74b9c94e66e5118b93841": {
          "model_module": "@jupyter-widgets/controls",
          "model_name": "HTMLModel",
          "model_module_version": "1.5.0",
          "state": {
            "_dom_classes": [],
            "_model_module": "@jupyter-widgets/controls",
            "_model_module_version": "1.5.0",
            "_model_name": "HTMLModel",
            "_view_count": null,
            "_view_module": "@jupyter-widgets/controls",
            "_view_module_version": "1.5.0",
            "_view_name": "HTMLView",
            "description": "",
            "description_tooltip": null,
            "layout": "IPY_MODEL_bc05c038a26b425da13103336518dd29",
            "placeholder": "​",
            "style": "IPY_MODEL_072b8e5277f040c8a537cd1357617654",
            "value": " 483/483 [00:00&lt;00:00, 13.5kB/s]"
          }
        },
        "d525205087274ddeb41fb98f9dcec5ba": {
          "model_module": "@jupyter-widgets/base",
          "model_name": "LayoutModel",
          "model_module_version": "1.2.0",
          "state": {
            "_model_module": "@jupyter-widgets/base",
            "_model_module_version": "1.2.0",
            "_model_name": "LayoutModel",
            "_view_count": null,
            "_view_module": "@jupyter-widgets/base",
            "_view_module_version": "1.2.0",
            "_view_name": "LayoutView",
            "align_content": null,
            "align_items": null,
            "align_self": null,
            "border": null,
            "bottom": null,
            "display": null,
            "flex": null,
            "flex_flow": null,
            "grid_area": null,
            "grid_auto_columns": null,
            "grid_auto_flow": null,
            "grid_auto_rows": null,
            "grid_column": null,
            "grid_gap": null,
            "grid_row": null,
            "grid_template_areas": null,
            "grid_template_columns": null,
            "grid_template_rows": null,
            "height": null,
            "justify_content": null,
            "justify_items": null,
            "left": null,
            "margin": null,
            "max_height": null,
            "max_width": null,
            "min_height": null,
            "min_width": null,
            "object_fit": null,
            "object_position": null,
            "order": null,
            "overflow": null,
            "overflow_x": null,
            "overflow_y": null,
            "padding": null,
            "right": null,
            "top": null,
            "visibility": null,
            "width": null
          }
        },
        "597134645d5e4a20b9e1d79efae0f117": {
          "model_module": "@jupyter-widgets/base",
          "model_name": "LayoutModel",
          "model_module_version": "1.2.0",
          "state": {
            "_model_module": "@jupyter-widgets/base",
            "_model_module_version": "1.2.0",
            "_model_name": "LayoutModel",
            "_view_count": null,
            "_view_module": "@jupyter-widgets/base",
            "_view_module_version": "1.2.0",
            "_view_name": "LayoutView",
            "align_content": null,
            "align_items": null,
            "align_self": null,
            "border": null,
            "bottom": null,
            "display": null,
            "flex": null,
            "flex_flow": null,
            "grid_area": null,
            "grid_auto_columns": null,
            "grid_auto_flow": null,
            "grid_auto_rows": null,
            "grid_column": null,
            "grid_gap": null,
            "grid_row": null,
            "grid_template_areas": null,
            "grid_template_columns": null,
            "grid_template_rows": null,
            "height": null,
            "justify_content": null,
            "justify_items": null,
            "left": null,
            "margin": null,
            "max_height": null,
            "max_width": null,
            "min_height": null,
            "min_width": null,
            "object_fit": null,
            "object_position": null,
            "order": null,
            "overflow": null,
            "overflow_x": null,
            "overflow_y": null,
            "padding": null,
            "right": null,
            "top": null,
            "visibility": null,
            "width": null
          }
        },
        "0447fdcc4e44415aa14dc657f0eb9361": {
          "model_module": "@jupyter-widgets/controls",
          "model_name": "DescriptionStyleModel",
          "model_module_version": "1.5.0",
          "state": {
            "_model_module": "@jupyter-widgets/controls",
            "_model_module_version": "1.5.0",
            "_model_name": "DescriptionStyleModel",
            "_view_count": null,
            "_view_module": "@jupyter-widgets/base",
            "_view_module_version": "1.2.0",
            "_view_name": "StyleView",
            "description_width": ""
          }
        },
        "4e617538c93c44dbb1674d6bd04f4343": {
          "model_module": "@jupyter-widgets/base",
          "model_name": "LayoutModel",
          "model_module_version": "1.2.0",
          "state": {
            "_model_module": "@jupyter-widgets/base",
            "_model_module_version": "1.2.0",
            "_model_name": "LayoutModel",
            "_view_count": null,
            "_view_module": "@jupyter-widgets/base",
            "_view_module_version": "1.2.0",
            "_view_name": "LayoutView",
            "align_content": null,
            "align_items": null,
            "align_self": null,
            "border": null,
            "bottom": null,
            "display": null,
            "flex": null,
            "flex_flow": null,
            "grid_area": null,
            "grid_auto_columns": null,
            "grid_auto_flow": null,
            "grid_auto_rows": null,
            "grid_column": null,
            "grid_gap": null,
            "grid_row": null,
            "grid_template_areas": null,
            "grid_template_columns": null,
            "grid_template_rows": null,
            "height": null,
            "justify_content": null,
            "justify_items": null,
            "left": null,
            "margin": null,
            "max_height": null,
            "max_width": null,
            "min_height": null,
            "min_width": null,
            "object_fit": null,
            "object_position": null,
            "order": null,
            "overflow": null,
            "overflow_x": null,
            "overflow_y": null,
            "padding": null,
            "right": null,
            "top": null,
            "visibility": null,
            "width": null
          }
        },
        "0d75647a18cc41a9b04b4d8e21c70b11": {
          "model_module": "@jupyter-widgets/controls",
          "model_name": "ProgressStyleModel",
          "model_module_version": "1.5.0",
          "state": {
            "_model_module": "@jupyter-widgets/controls",
            "_model_module_version": "1.5.0",
            "_model_name": "ProgressStyleModel",
            "_view_count": null,
            "_view_module": "@jupyter-widgets/base",
            "_view_module_version": "1.2.0",
            "_view_name": "StyleView",
            "bar_color": null,
            "description_width": ""
          }
        },
        "bc05c038a26b425da13103336518dd29": {
          "model_module": "@jupyter-widgets/base",
          "model_name": "LayoutModel",
          "model_module_version": "1.2.0",
          "state": {
            "_model_module": "@jupyter-widgets/base",
            "_model_module_version": "1.2.0",
            "_model_name": "LayoutModel",
            "_view_count": null,
            "_view_module": "@jupyter-widgets/base",
            "_view_module_version": "1.2.0",
            "_view_name": "LayoutView",
            "align_content": null,
            "align_items": null,
            "align_self": null,
            "border": null,
            "bottom": null,
            "display": null,
            "flex": null,
            "flex_flow": null,
            "grid_area": null,
            "grid_auto_columns": null,
            "grid_auto_flow": null,
            "grid_auto_rows": null,
            "grid_column": null,
            "grid_gap": null,
            "grid_row": null,
            "grid_template_areas": null,
            "grid_template_columns": null,
            "grid_template_rows": null,
            "height": null,
            "justify_content": null,
            "justify_items": null,
            "left": null,
            "margin": null,
            "max_height": null,
            "max_width": null,
            "min_height": null,
            "min_width": null,
            "object_fit": null,
            "object_position": null,
            "order": null,
            "overflow": null,
            "overflow_x": null,
            "overflow_y": null,
            "padding": null,
            "right": null,
            "top": null,
            "visibility": null,
            "width": null
          }
        },
        "072b8e5277f040c8a537cd1357617654": {
          "model_module": "@jupyter-widgets/controls",
          "model_name": "DescriptionStyleModel",
          "model_module_version": "1.5.0",
          "state": {
            "_model_module": "@jupyter-widgets/controls",
            "_model_module_version": "1.5.0",
            "_model_name": "DescriptionStyleModel",
            "_view_count": null,
            "_view_module": "@jupyter-widgets/base",
            "_view_module_version": "1.2.0",
            "_view_name": "StyleView",
            "description_width": ""
          }
        },
        "249747b0bc134a999b3a6937d8aa6f56": {
          "model_module": "@jupyter-widgets/controls",
          "model_name": "HBoxModel",
          "model_module_version": "1.5.0",
          "state": {
            "_dom_classes": [],
            "_model_module": "@jupyter-widgets/controls",
            "_model_module_version": "1.5.0",
            "_model_name": "HBoxModel",
            "_view_count": null,
            "_view_module": "@jupyter-widgets/controls",
            "_view_module_version": "1.5.0",
            "_view_name": "HBoxView",
            "box_style": "",
            "children": [
              "IPY_MODEL_4389388b14a243e9b67b708a651fb007",
              "IPY_MODEL_288c550dd5c342b2b042e1563c4a4e35",
              "IPY_MODEL_93bbfa64f9c84e3182f1a9ecfa27caf3"
            ],
            "layout": "IPY_MODEL_319e8050abfb4b0e94cd7c4db3b341d4"
          }
        },
        "4389388b14a243e9b67b708a651fb007": {
          "model_module": "@jupyter-widgets/controls",
          "model_name": "HTMLModel",
          "model_module_version": "1.5.0",
          "state": {
            "_dom_classes": [],
            "_model_module": "@jupyter-widgets/controls",
            "_model_module_version": "1.5.0",
            "_model_name": "HTMLModel",
            "_view_count": null,
            "_view_module": "@jupyter-widgets/controls",
            "_view_module_version": "1.5.0",
            "_view_name": "HTMLView",
            "description": "",
            "description_tooltip": null,
            "layout": "IPY_MODEL_fe56f9b9e49a4afc804adefbac309ce5",
            "placeholder": "​",
            "style": "IPY_MODEL_0bdf4b03609949bba44f6431f19bb968",
            "value": "model.safetensors: 100%"
          }
        },
        "288c550dd5c342b2b042e1563c4a4e35": {
          "model_module": "@jupyter-widgets/controls",
          "model_name": "FloatProgressModel",
          "model_module_version": "1.5.0",
          "state": {
            "_dom_classes": [],
            "_model_module": "@jupyter-widgets/controls",
            "_model_module_version": "1.5.0",
            "_model_name": "FloatProgressModel",
            "_view_count": null,
            "_view_module": "@jupyter-widgets/controls",
            "_view_module_version": "1.5.0",
            "_view_name": "ProgressView",
            "bar_style": "success",
            "description": "",
            "description_tooltip": null,
            "layout": "IPY_MODEL_e962afa6ed69449e87c19102065384b7",
            "max": 267954768,
            "min": 0,
            "orientation": "horizontal",
            "style": "IPY_MODEL_d788c01efb6447078283ac47daf0a93c",
            "value": 267954768
          }
        },
        "93bbfa64f9c84e3182f1a9ecfa27caf3": {
          "model_module": "@jupyter-widgets/controls",
          "model_name": "HTMLModel",
          "model_module_version": "1.5.0",
          "state": {
            "_dom_classes": [],
            "_model_module": "@jupyter-widgets/controls",
            "_model_module_version": "1.5.0",
            "_model_name": "HTMLModel",
            "_view_count": null,
            "_view_module": "@jupyter-widgets/controls",
            "_view_module_version": "1.5.0",
            "_view_name": "HTMLView",
            "description": "",
            "description_tooltip": null,
            "layout": "IPY_MODEL_dbf0df9cd7de42d295f63e9b7f1bc843",
            "placeholder": "​",
            "style": "IPY_MODEL_354f1e25fd354004bf39c017d0188d20",
            "value": " 268M/268M [00:02&lt;00:00, 127MB/s]"
          }
        },
        "319e8050abfb4b0e94cd7c4db3b341d4": {
          "model_module": "@jupyter-widgets/base",
          "model_name": "LayoutModel",
          "model_module_version": "1.2.0",
          "state": {
            "_model_module": "@jupyter-widgets/base",
            "_model_module_version": "1.2.0",
            "_model_name": "LayoutModel",
            "_view_count": null,
            "_view_module": "@jupyter-widgets/base",
            "_view_module_version": "1.2.0",
            "_view_name": "LayoutView",
            "align_content": null,
            "align_items": null,
            "align_self": null,
            "border": null,
            "bottom": null,
            "display": null,
            "flex": null,
            "flex_flow": null,
            "grid_area": null,
            "grid_auto_columns": null,
            "grid_auto_flow": null,
            "grid_auto_rows": null,
            "grid_column": null,
            "grid_gap": null,
            "grid_row": null,
            "grid_template_areas": null,
            "grid_template_columns": null,
            "grid_template_rows": null,
            "height": null,
            "justify_content": null,
            "justify_items": null,
            "left": null,
            "margin": null,
            "max_height": null,
            "max_width": null,
            "min_height": null,
            "min_width": null,
            "object_fit": null,
            "object_position": null,
            "order": null,
            "overflow": null,
            "overflow_x": null,
            "overflow_y": null,
            "padding": null,
            "right": null,
            "top": null,
            "visibility": null,
            "width": null
          }
        },
        "fe56f9b9e49a4afc804adefbac309ce5": {
          "model_module": "@jupyter-widgets/base",
          "model_name": "LayoutModel",
          "model_module_version": "1.2.0",
          "state": {
            "_model_module": "@jupyter-widgets/base",
            "_model_module_version": "1.2.0",
            "_model_name": "LayoutModel",
            "_view_count": null,
            "_view_module": "@jupyter-widgets/base",
            "_view_module_version": "1.2.0",
            "_view_name": "LayoutView",
            "align_content": null,
            "align_items": null,
            "align_self": null,
            "border": null,
            "bottom": null,
            "display": null,
            "flex": null,
            "flex_flow": null,
            "grid_area": null,
            "grid_auto_columns": null,
            "grid_auto_flow": null,
            "grid_auto_rows": null,
            "grid_column": null,
            "grid_gap": null,
            "grid_row": null,
            "grid_template_areas": null,
            "grid_template_columns": null,
            "grid_template_rows": null,
            "height": null,
            "justify_content": null,
            "justify_items": null,
            "left": null,
            "margin": null,
            "max_height": null,
            "max_width": null,
            "min_height": null,
            "min_width": null,
            "object_fit": null,
            "object_position": null,
            "order": null,
            "overflow": null,
            "overflow_x": null,
            "overflow_y": null,
            "padding": null,
            "right": null,
            "top": null,
            "visibility": null,
            "width": null
          }
        },
        "0bdf4b03609949bba44f6431f19bb968": {
          "model_module": "@jupyter-widgets/controls",
          "model_name": "DescriptionStyleModel",
          "model_module_version": "1.5.0",
          "state": {
            "_model_module": "@jupyter-widgets/controls",
            "_model_module_version": "1.5.0",
            "_model_name": "DescriptionStyleModel",
            "_view_count": null,
            "_view_module": "@jupyter-widgets/base",
            "_view_module_version": "1.2.0",
            "_view_name": "StyleView",
            "description_width": ""
          }
        },
        "e962afa6ed69449e87c19102065384b7": {
          "model_module": "@jupyter-widgets/base",
          "model_name": "LayoutModel",
          "model_module_version": "1.2.0",
          "state": {
            "_model_module": "@jupyter-widgets/base",
            "_model_module_version": "1.2.0",
            "_model_name": "LayoutModel",
            "_view_count": null,
            "_view_module": "@jupyter-widgets/base",
            "_view_module_version": "1.2.0",
            "_view_name": "LayoutView",
            "align_content": null,
            "align_items": null,
            "align_self": null,
            "border": null,
            "bottom": null,
            "display": null,
            "flex": null,
            "flex_flow": null,
            "grid_area": null,
            "grid_auto_columns": null,
            "grid_auto_flow": null,
            "grid_auto_rows": null,
            "grid_column": null,
            "grid_gap": null,
            "grid_row": null,
            "grid_template_areas": null,
            "grid_template_columns": null,
            "grid_template_rows": null,
            "height": null,
            "justify_content": null,
            "justify_items": null,
            "left": null,
            "margin": null,
            "max_height": null,
            "max_width": null,
            "min_height": null,
            "min_width": null,
            "object_fit": null,
            "object_position": null,
            "order": null,
            "overflow": null,
            "overflow_x": null,
            "overflow_y": null,
            "padding": null,
            "right": null,
            "top": null,
            "visibility": null,
            "width": null
          }
        },
        "d788c01efb6447078283ac47daf0a93c": {
          "model_module": "@jupyter-widgets/controls",
          "model_name": "ProgressStyleModel",
          "model_module_version": "1.5.0",
          "state": {
            "_model_module": "@jupyter-widgets/controls",
            "_model_module_version": "1.5.0",
            "_model_name": "ProgressStyleModel",
            "_view_count": null,
            "_view_module": "@jupyter-widgets/base",
            "_view_module_version": "1.2.0",
            "_view_name": "StyleView",
            "bar_color": null,
            "description_width": ""
          }
        },
        "dbf0df9cd7de42d295f63e9b7f1bc843": {
          "model_module": "@jupyter-widgets/base",
          "model_name": "LayoutModel",
          "model_module_version": "1.2.0",
          "state": {
            "_model_module": "@jupyter-widgets/base",
            "_model_module_version": "1.2.0",
            "_model_name": "LayoutModel",
            "_view_count": null,
            "_view_module": "@jupyter-widgets/base",
            "_view_module_version": "1.2.0",
            "_view_name": "LayoutView",
            "align_content": null,
            "align_items": null,
            "align_self": null,
            "border": null,
            "bottom": null,
            "display": null,
            "flex": null,
            "flex_flow": null,
            "grid_area": null,
            "grid_auto_columns": null,
            "grid_auto_flow": null,
            "grid_auto_rows": null,
            "grid_column": null,
            "grid_gap": null,
            "grid_row": null,
            "grid_template_areas": null,
            "grid_template_columns": null,
            "grid_template_rows": null,
            "height": null,
            "justify_content": null,
            "justify_items": null,
            "left": null,
            "margin": null,
            "max_height": null,
            "max_width": null,
            "min_height": null,
            "min_width": null,
            "object_fit": null,
            "object_position": null,
            "order": null,
            "overflow": null,
            "overflow_x": null,
            "overflow_y": null,
            "padding": null,
            "right": null,
            "top": null,
            "visibility": null,
            "width": null
          }
        },
        "354f1e25fd354004bf39c017d0188d20": {
          "model_module": "@jupyter-widgets/controls",
          "model_name": "DescriptionStyleModel",
          "model_module_version": "1.5.0",
          "state": {
            "_model_module": "@jupyter-widgets/controls",
            "_model_module_version": "1.5.0",
            "_model_name": "DescriptionStyleModel",
            "_view_count": null,
            "_view_module": "@jupyter-widgets/base",
            "_view_module_version": "1.2.0",
            "_view_name": "StyleView",
            "description_width": ""
          }
        }
      }
    }
  },
  "nbformat": 4,
  "nbformat_minor": 0
}